{
  "nbformat": 4,
  "nbformat_minor": 0,
  "metadata": {
    "colab": {
      "provenance": [],
      "include_colab_link": true
    },
    "kernelspec": {
      "name": "python3",
      "display_name": "Python 3"
    },
    "language_info": {
      "name": "python"
    },
    "widgets": {
      "application/vnd.jupyter.widget-state+json": {
        "bca2c3b534c24f72aaf79a110532a97f": {
          "model_module": "@jupyter-widgets/controls",
          "model_name": "HBoxModel",
          "model_module_version": "1.5.0",
          "state": {
            "_dom_classes": [],
            "_model_module": "@jupyter-widgets/controls",
            "_model_module_version": "1.5.0",
            "_model_name": "HBoxModel",
            "_view_count": null,
            "_view_module": "@jupyter-widgets/controls",
            "_view_module_version": "1.5.0",
            "_view_name": "HBoxView",
            "box_style": "",
            "children": [
              "IPY_MODEL_2328ca365e354e789d507347f9205acb",
              "IPY_MODEL_081f4354f2464d7ca442e00670203f30",
              "IPY_MODEL_9697e612eabb4ac4894ab454be01d99d"
            ],
            "layout": "IPY_MODEL_bc85ceae8a1b4c67947531ac80b66a30"
          }
        },
        "2328ca365e354e789d507347f9205acb": {
          "model_module": "@jupyter-widgets/controls",
          "model_name": "HTMLModel",
          "model_module_version": "1.5.0",
          "state": {
            "_dom_classes": [],
            "_model_module": "@jupyter-widgets/controls",
            "_model_module_version": "1.5.0",
            "_model_name": "HTMLModel",
            "_view_count": null,
            "_view_module": "@jupyter-widgets/controls",
            "_view_module_version": "1.5.0",
            "_view_name": "HTMLView",
            "description": "",
            "description_tooltip": null,
            "layout": "IPY_MODEL_70c52e17bb6944a09fb77bf66c9dc4a3",
            "placeholder": "​",
            "style": "IPY_MODEL_44cde78ffb5e44f2bee2562b586b7f4a",
            "value": "Processing: 100%"
          }
        },
        "081f4354f2464d7ca442e00670203f30": {
          "model_module": "@jupyter-widgets/controls",
          "model_name": "FloatProgressModel",
          "model_module_version": "1.5.0",
          "state": {
            "_dom_classes": [],
            "_model_module": "@jupyter-widgets/controls",
            "_model_module_version": "1.5.0",
            "_model_name": "FloatProgressModel",
            "_view_count": null,
            "_view_module": "@jupyter-widgets/controls",
            "_view_module_version": "1.5.0",
            "_view_name": "ProgressView",
            "bar_style": "",
            "description": "",
            "description_tooltip": null,
            "layout": "IPY_MODEL_20063ae410024363a3e06fab459656ff",
            "max": 65,
            "min": 0,
            "orientation": "horizontal",
            "style": "IPY_MODEL_6be1f864b5e44faaa22ea6178cdad7a7",
            "value": 65
          }
        },
        "9697e612eabb4ac4894ab454be01d99d": {
          "model_module": "@jupyter-widgets/controls",
          "model_name": "HTMLModel",
          "model_module_version": "1.5.0",
          "state": {
            "_dom_classes": [],
            "_model_module": "@jupyter-widgets/controls",
            "_model_module_version": "1.5.0",
            "_model_name": "HTMLModel",
            "_view_count": null,
            "_view_module": "@jupyter-widgets/controls",
            "_view_module_version": "1.5.0",
            "_view_name": "HTMLView",
            "description": "",
            "description_tooltip": null,
            "layout": "IPY_MODEL_cf4fb80ee3e646beb2fc33acf64f7804",
            "placeholder": "​",
            "style": "IPY_MODEL_ad456ce323954c9e9def62ce7c50e28d",
            "value": " 65/65 [01:45&lt;00:00,  1.04it/s]"
          }
        },
        "bc85ceae8a1b4c67947531ac80b66a30": {
          "model_module": "@jupyter-widgets/base",
          "model_name": "LayoutModel",
          "model_module_version": "1.2.0",
          "state": {
            "_model_module": "@jupyter-widgets/base",
            "_model_module_version": "1.2.0",
            "_model_name": "LayoutModel",
            "_view_count": null,
            "_view_module": "@jupyter-widgets/base",
            "_view_module_version": "1.2.0",
            "_view_name": "LayoutView",
            "align_content": null,
            "align_items": null,
            "align_self": null,
            "border": null,
            "bottom": null,
            "display": null,
            "flex": null,
            "flex_flow": null,
            "grid_area": null,
            "grid_auto_columns": null,
            "grid_auto_flow": null,
            "grid_auto_rows": null,
            "grid_column": null,
            "grid_gap": null,
            "grid_row": null,
            "grid_template_areas": null,
            "grid_template_columns": null,
            "grid_template_rows": null,
            "height": null,
            "justify_content": null,
            "justify_items": null,
            "left": null,
            "margin": null,
            "max_height": null,
            "max_width": null,
            "min_height": null,
            "min_width": null,
            "object_fit": null,
            "object_position": null,
            "order": null,
            "overflow": null,
            "overflow_x": null,
            "overflow_y": null,
            "padding": null,
            "right": null,
            "top": null,
            "visibility": "hidden",
            "width": null
          }
        },
        "70c52e17bb6944a09fb77bf66c9dc4a3": {
          "model_module": "@jupyter-widgets/base",
          "model_name": "LayoutModel",
          "model_module_version": "1.2.0",
          "state": {
            "_model_module": "@jupyter-widgets/base",
            "_model_module_version": "1.2.0",
            "_model_name": "LayoutModel",
            "_view_count": null,
            "_view_module": "@jupyter-widgets/base",
            "_view_module_version": "1.2.0",
            "_view_name": "LayoutView",
            "align_content": null,
            "align_items": null,
            "align_self": null,
            "border": null,
            "bottom": null,
            "display": null,
            "flex": null,
            "flex_flow": null,
            "grid_area": null,
            "grid_auto_columns": null,
            "grid_auto_flow": null,
            "grid_auto_rows": null,
            "grid_column": null,
            "grid_gap": null,
            "grid_row": null,
            "grid_template_areas": null,
            "grid_template_columns": null,
            "grid_template_rows": null,
            "height": null,
            "justify_content": null,
            "justify_items": null,
            "left": null,
            "margin": null,
            "max_height": null,
            "max_width": null,
            "min_height": null,
            "min_width": null,
            "object_fit": null,
            "object_position": null,
            "order": null,
            "overflow": null,
            "overflow_x": null,
            "overflow_y": null,
            "padding": null,
            "right": null,
            "top": null,
            "visibility": null,
            "width": null
          }
        },
        "44cde78ffb5e44f2bee2562b586b7f4a": {
          "model_module": "@jupyter-widgets/controls",
          "model_name": "DescriptionStyleModel",
          "model_module_version": "1.5.0",
          "state": {
            "_model_module": "@jupyter-widgets/controls",
            "_model_module_version": "1.5.0",
            "_model_name": "DescriptionStyleModel",
            "_view_count": null,
            "_view_module": "@jupyter-widgets/base",
            "_view_module_version": "1.2.0",
            "_view_name": "StyleView",
            "description_width": ""
          }
        },
        "20063ae410024363a3e06fab459656ff": {
          "model_module": "@jupyter-widgets/base",
          "model_name": "LayoutModel",
          "model_module_version": "1.2.0",
          "state": {
            "_model_module": "@jupyter-widgets/base",
            "_model_module_version": "1.2.0",
            "_model_name": "LayoutModel",
            "_view_count": null,
            "_view_module": "@jupyter-widgets/base",
            "_view_module_version": "1.2.0",
            "_view_name": "LayoutView",
            "align_content": null,
            "align_items": null,
            "align_self": null,
            "border": null,
            "bottom": null,
            "display": null,
            "flex": null,
            "flex_flow": null,
            "grid_area": null,
            "grid_auto_columns": null,
            "grid_auto_flow": null,
            "grid_auto_rows": null,
            "grid_column": null,
            "grid_gap": null,
            "grid_row": null,
            "grid_template_areas": null,
            "grid_template_columns": null,
            "grid_template_rows": null,
            "height": null,
            "justify_content": null,
            "justify_items": null,
            "left": null,
            "margin": null,
            "max_height": null,
            "max_width": null,
            "min_height": null,
            "min_width": null,
            "object_fit": null,
            "object_position": null,
            "order": null,
            "overflow": null,
            "overflow_x": null,
            "overflow_y": null,
            "padding": null,
            "right": null,
            "top": null,
            "visibility": null,
            "width": null
          }
        },
        "6be1f864b5e44faaa22ea6178cdad7a7": {
          "model_module": "@jupyter-widgets/controls",
          "model_name": "ProgressStyleModel",
          "model_module_version": "1.5.0",
          "state": {
            "_model_module": "@jupyter-widgets/controls",
            "_model_module_version": "1.5.0",
            "_model_name": "ProgressStyleModel",
            "_view_count": null,
            "_view_module": "@jupyter-widgets/base",
            "_view_module_version": "1.2.0",
            "_view_name": "StyleView",
            "bar_color": null,
            "description_width": ""
          }
        },
        "cf4fb80ee3e646beb2fc33acf64f7804": {
          "model_module": "@jupyter-widgets/base",
          "model_name": "LayoutModel",
          "model_module_version": "1.2.0",
          "state": {
            "_model_module": "@jupyter-widgets/base",
            "_model_module_version": "1.2.0",
            "_model_name": "LayoutModel",
            "_view_count": null,
            "_view_module": "@jupyter-widgets/base",
            "_view_module_version": "1.2.0",
            "_view_name": "LayoutView",
            "align_content": null,
            "align_items": null,
            "align_self": null,
            "border": null,
            "bottom": null,
            "display": null,
            "flex": null,
            "flex_flow": null,
            "grid_area": null,
            "grid_auto_columns": null,
            "grid_auto_flow": null,
            "grid_auto_rows": null,
            "grid_column": null,
            "grid_gap": null,
            "grid_row": null,
            "grid_template_areas": null,
            "grid_template_columns": null,
            "grid_template_rows": null,
            "height": null,
            "justify_content": null,
            "justify_items": null,
            "left": null,
            "margin": null,
            "max_height": null,
            "max_width": null,
            "min_height": null,
            "min_width": null,
            "object_fit": null,
            "object_position": null,
            "order": null,
            "overflow": null,
            "overflow_x": null,
            "overflow_y": null,
            "padding": null,
            "right": null,
            "top": null,
            "visibility": null,
            "width": null
          }
        },
        "ad456ce323954c9e9def62ce7c50e28d": {
          "model_module": "@jupyter-widgets/controls",
          "model_name": "DescriptionStyleModel",
          "model_module_version": "1.5.0",
          "state": {
            "_model_module": "@jupyter-widgets/controls",
            "_model_module_version": "1.5.0",
            "_model_name": "DescriptionStyleModel",
            "_view_count": null,
            "_view_module": "@jupyter-widgets/base",
            "_view_module_version": "1.2.0",
            "_view_name": "StyleView",
            "description_width": ""
          }
        }
      }
    }
  },
  "cells": [
    {
      "cell_type": "markdown",
      "metadata": {
        "id": "view-in-github",
        "colab_type": "text"
      },
      "source": [
        "<a href=\"https://colab.research.google.com/github/sankalp-io/E-commerce-Shopper-Purchase-Prediction-Analysis-using-ML-/blob/main/ml_project.ipynb\" target=\"_parent\"><img src=\"https://colab.research.google.com/assets/colab-badge.svg\" alt=\"Open In Colab\"/></a>"
      ]
    },
    {
      "cell_type": "code",
      "execution_count": null,
      "metadata": {
        "id": "6gyqkp_QDUaZ"
      },
      "outputs": [],
      "source": [
        "\n",
        "import numpy as np\n",
        "import pandas as pd\n",
        "import matplotlib.pyplot as plt\n",
        "import seaborn as sns\n",
        "\n",
        "%matplotlib inline"
      ]
    },
    {
      "cell_type": "code",
      "source": [
        "!pip install pycaret &> /dev/null\n",
        "print (\"Pycaret installed sucessfully!!\")"
      ],
      "metadata": {
        "colab": {
          "base_uri": "https://localhost:8080/"
        },
        "id": "IO3nUayUwJYl",
        "outputId": "a637f5b7-5666-4219-cd90-d5748593a31d"
      },
      "execution_count": null,
      "outputs": [
        {
          "output_type": "stream",
          "name": "stdout",
          "text": [
            "Pycaret installed sucessfully!!\n"
          ]
        }
      ]
    },
    {
      "cell_type": "code",
      "source": [
        "df=pd.read_csv('/content/online_shoppers_intention (1).csv')"
      ],
      "metadata": {
        "id": "onpEDb1AFhQC"
      },
      "execution_count": null,
      "outputs": []
    },
    {
      "cell_type": "code",
      "source": [
        "df.head()"
      ],
      "metadata": {
        "colab": {
          "base_uri": "https://localhost:8080/",
          "height": 226
        },
        "id": "LBjl4Dsu9oGf",
        "outputId": "32c9ae8e-9391-4194-da94-baac90f96a94"
      },
      "execution_count": null,
      "outputs": [
        {
          "output_type": "execute_result",
          "data": {
            "text/plain": [
              "   Administrative  Administrative_Duration  Informational  \\\n",
              "0               0                     0.00              0   \n",
              "1               0                     0.00              0   \n",
              "2               0                     0.00              0   \n",
              "3               0                     0.00              0   \n",
              "4               0                     0.00              0   \n",
              "\n",
              "   Informational_Duration  ProductRelated  ProductRelated_Duration  \\\n",
              "0                    0.00               1                     0.00   \n",
              "1                    0.00               2                    64.00   \n",
              "2                    0.00               1                     0.00   \n",
              "3                    0.00               2                     2.67   \n",
              "4                    0.00              10                   627.50   \n",
              "\n",
              "   BounceRates  ExitRates  PageValues  SpecialDay Month  OperatingSystems  \\\n",
              "0         0.20       0.20        0.00        0.00   Feb                 1   \n",
              "1         0.00       0.10        0.00        0.00   Feb                 2   \n",
              "2         0.20       0.20        0.00        0.00   Feb                 4   \n",
              "3         0.05       0.14        0.00        0.00   Feb                 3   \n",
              "4         0.02       0.05        0.00        0.00   Feb                 3   \n",
              "\n",
              "   Browser  Region  TrafficType        VisitorType  Weekend  Revenue  \n",
              "0        1       1            1  Returning_Visitor    False    False  \n",
              "1        2       1            2  Returning_Visitor    False    False  \n",
              "2        1       9            3  Returning_Visitor    False    False  \n",
              "3        2       2            4  Returning_Visitor    False    False  \n",
              "4        3       1            4  Returning_Visitor     True    False  "
            ],
            "text/html": [
              "\n",
              "  <div id=\"df-4906b643-310e-463c-a90d-33c933267f68\" class=\"colab-df-container\">\n",
              "    <div>\n",
              "<style scoped>\n",
              "    .dataframe tbody tr th:only-of-type {\n",
              "        vertical-align: middle;\n",
              "    }\n",
              "\n",
              "    .dataframe tbody tr th {\n",
              "        vertical-align: top;\n",
              "    }\n",
              "\n",
              "    .dataframe thead th {\n",
              "        text-align: right;\n",
              "    }\n",
              "</style>\n",
              "<table border=\"1\" class=\"dataframe\">\n",
              "  <thead>\n",
              "    <tr style=\"text-align: right;\">\n",
              "      <th></th>\n",
              "      <th>Administrative</th>\n",
              "      <th>Administrative_Duration</th>\n",
              "      <th>Informational</th>\n",
              "      <th>Informational_Duration</th>\n",
              "      <th>ProductRelated</th>\n",
              "      <th>ProductRelated_Duration</th>\n",
              "      <th>BounceRates</th>\n",
              "      <th>ExitRates</th>\n",
              "      <th>PageValues</th>\n",
              "      <th>SpecialDay</th>\n",
              "      <th>Month</th>\n",
              "      <th>OperatingSystems</th>\n",
              "      <th>Browser</th>\n",
              "      <th>Region</th>\n",
              "      <th>TrafficType</th>\n",
              "      <th>VisitorType</th>\n",
              "      <th>Weekend</th>\n",
              "      <th>Revenue</th>\n",
              "    </tr>\n",
              "  </thead>\n",
              "  <tbody>\n",
              "    <tr>\n",
              "      <th>0</th>\n",
              "      <td>0</td>\n",
              "      <td>0.00</td>\n",
              "      <td>0</td>\n",
              "      <td>0.00</td>\n",
              "      <td>1</td>\n",
              "      <td>0.00</td>\n",
              "      <td>0.20</td>\n",
              "      <td>0.20</td>\n",
              "      <td>0.00</td>\n",
              "      <td>0.00</td>\n",
              "      <td>Feb</td>\n",
              "      <td>1</td>\n",
              "      <td>1</td>\n",
              "      <td>1</td>\n",
              "      <td>1</td>\n",
              "      <td>Returning_Visitor</td>\n",
              "      <td>False</td>\n",
              "      <td>False</td>\n",
              "    </tr>\n",
              "    <tr>\n",
              "      <th>1</th>\n",
              "      <td>0</td>\n",
              "      <td>0.00</td>\n",
              "      <td>0</td>\n",
              "      <td>0.00</td>\n",
              "      <td>2</td>\n",
              "      <td>64.00</td>\n",
              "      <td>0.00</td>\n",
              "      <td>0.10</td>\n",
              "      <td>0.00</td>\n",
              "      <td>0.00</td>\n",
              "      <td>Feb</td>\n",
              "      <td>2</td>\n",
              "      <td>2</td>\n",
              "      <td>1</td>\n",
              "      <td>2</td>\n",
              "      <td>Returning_Visitor</td>\n",
              "      <td>False</td>\n",
              "      <td>False</td>\n",
              "    </tr>\n",
              "    <tr>\n",
              "      <th>2</th>\n",
              "      <td>0</td>\n",
              "      <td>0.00</td>\n",
              "      <td>0</td>\n",
              "      <td>0.00</td>\n",
              "      <td>1</td>\n",
              "      <td>0.00</td>\n",
              "      <td>0.20</td>\n",
              "      <td>0.20</td>\n",
              "      <td>0.00</td>\n",
              "      <td>0.00</td>\n",
              "      <td>Feb</td>\n",
              "      <td>4</td>\n",
              "      <td>1</td>\n",
              "      <td>9</td>\n",
              "      <td>3</td>\n",
              "      <td>Returning_Visitor</td>\n",
              "      <td>False</td>\n",
              "      <td>False</td>\n",
              "    </tr>\n",
              "    <tr>\n",
              "      <th>3</th>\n",
              "      <td>0</td>\n",
              "      <td>0.00</td>\n",
              "      <td>0</td>\n",
              "      <td>0.00</td>\n",
              "      <td>2</td>\n",
              "      <td>2.67</td>\n",
              "      <td>0.05</td>\n",
              "      <td>0.14</td>\n",
              "      <td>0.00</td>\n",
              "      <td>0.00</td>\n",
              "      <td>Feb</td>\n",
              "      <td>3</td>\n",
              "      <td>2</td>\n",
              "      <td>2</td>\n",
              "      <td>4</td>\n",
              "      <td>Returning_Visitor</td>\n",
              "      <td>False</td>\n",
              "      <td>False</td>\n",
              "    </tr>\n",
              "    <tr>\n",
              "      <th>4</th>\n",
              "      <td>0</td>\n",
              "      <td>0.00</td>\n",
              "      <td>0</td>\n",
              "      <td>0.00</td>\n",
              "      <td>10</td>\n",
              "      <td>627.50</td>\n",
              "      <td>0.02</td>\n",
              "      <td>0.05</td>\n",
              "      <td>0.00</td>\n",
              "      <td>0.00</td>\n",
              "      <td>Feb</td>\n",
              "      <td>3</td>\n",
              "      <td>3</td>\n",
              "      <td>1</td>\n",
              "      <td>4</td>\n",
              "      <td>Returning_Visitor</td>\n",
              "      <td>True</td>\n",
              "      <td>False</td>\n",
              "    </tr>\n",
              "  </tbody>\n",
              "</table>\n",
              "</div>\n",
              "    <div class=\"colab-df-buttons\">\n",
              "\n",
              "  <div class=\"colab-df-container\">\n",
              "    <button class=\"colab-df-convert\" onclick=\"convertToInteractive('df-4906b643-310e-463c-a90d-33c933267f68')\"\n",
              "            title=\"Convert this dataframe to an interactive table.\"\n",
              "            style=\"display:none;\">\n",
              "\n",
              "  <svg xmlns=\"http://www.w3.org/2000/svg\" height=\"24px\" viewBox=\"0 -960 960 960\">\n",
              "    <path d=\"M120-120v-720h720v720H120Zm60-500h600v-160H180v160Zm220 220h160v-160H400v160Zm0 220h160v-160H400v160ZM180-400h160v-160H180v160Zm440 0h160v-160H620v160ZM180-180h160v-160H180v160Zm440 0h160v-160H620v160Z\"/>\n",
              "  </svg>\n",
              "    </button>\n",
              "\n",
              "  <style>\n",
              "    .colab-df-container {\n",
              "      display:flex;\n",
              "      gap: 12px;\n",
              "    }\n",
              "\n",
              "    .colab-df-convert {\n",
              "      background-color: #E8F0FE;\n",
              "      border: none;\n",
              "      border-radius: 50%;\n",
              "      cursor: pointer;\n",
              "      display: none;\n",
              "      fill: #1967D2;\n",
              "      height: 32px;\n",
              "      padding: 0 0 0 0;\n",
              "      width: 32px;\n",
              "    }\n",
              "\n",
              "    .colab-df-convert:hover {\n",
              "      background-color: #E2EBFA;\n",
              "      box-shadow: 0px 1px 2px rgba(60, 64, 67, 0.3), 0px 1px 3px 1px rgba(60, 64, 67, 0.15);\n",
              "      fill: #174EA6;\n",
              "    }\n",
              "\n",
              "    .colab-df-buttons div {\n",
              "      margin-bottom: 4px;\n",
              "    }\n",
              "\n",
              "    [theme=dark] .colab-df-convert {\n",
              "      background-color: #3B4455;\n",
              "      fill: #D2E3FC;\n",
              "    }\n",
              "\n",
              "    [theme=dark] .colab-df-convert:hover {\n",
              "      background-color: #434B5C;\n",
              "      box-shadow: 0px 1px 3px 1px rgba(0, 0, 0, 0.15);\n",
              "      filter: drop-shadow(0px 1px 2px rgba(0, 0, 0, 0.3));\n",
              "      fill: #FFFFFF;\n",
              "    }\n",
              "  </style>\n",
              "\n",
              "    <script>\n",
              "      const buttonEl =\n",
              "        document.querySelector('#df-4906b643-310e-463c-a90d-33c933267f68 button.colab-df-convert');\n",
              "      buttonEl.style.display =\n",
              "        google.colab.kernel.accessAllowed ? 'block' : 'none';\n",
              "\n",
              "      async function convertToInteractive(key) {\n",
              "        const element = document.querySelector('#df-4906b643-310e-463c-a90d-33c933267f68');\n",
              "        const dataTable =\n",
              "          await google.colab.kernel.invokeFunction('convertToInteractive',\n",
              "                                                    [key], {});\n",
              "        if (!dataTable) return;\n",
              "\n",
              "        const docLinkHtml = 'Like what you see? Visit the ' +\n",
              "          '<a target=\"_blank\" href=https://colab.research.google.com/notebooks/data_table.ipynb>data table notebook</a>'\n",
              "          + ' to learn more about interactive tables.';\n",
              "        element.innerHTML = '';\n",
              "        dataTable['output_type'] = 'display_data';\n",
              "        await google.colab.output.renderOutput(dataTable, element);\n",
              "        const docLink = document.createElement('div');\n",
              "        docLink.innerHTML = docLinkHtml;\n",
              "        element.appendChild(docLink);\n",
              "      }\n",
              "    </script>\n",
              "  </div>\n",
              "\n",
              "\n",
              "<div id=\"df-d5e498de-8713-4d47-b48c-3a8b45b27e87\">\n",
              "  <button class=\"colab-df-quickchart\" onclick=\"quickchart('df-d5e498de-8713-4d47-b48c-3a8b45b27e87')\"\n",
              "            title=\"Suggest charts\"\n",
              "            style=\"display:none;\">\n",
              "\n",
              "<svg xmlns=\"http://www.w3.org/2000/svg\" height=\"24px\"viewBox=\"0 0 24 24\"\n",
              "     width=\"24px\">\n",
              "    <g>\n",
              "        <path d=\"M19 3H5c-1.1 0-2 .9-2 2v14c0 1.1.9 2 2 2h14c1.1 0 2-.9 2-2V5c0-1.1-.9-2-2-2zM9 17H7v-7h2v7zm4 0h-2V7h2v10zm4 0h-2v-4h2v4z\"/>\n",
              "    </g>\n",
              "</svg>\n",
              "  </button>\n",
              "\n",
              "<style>\n",
              "  .colab-df-quickchart {\n",
              "      --bg-color: #E8F0FE;\n",
              "      --fill-color: #1967D2;\n",
              "      --hover-bg-color: #E2EBFA;\n",
              "      --hover-fill-color: #174EA6;\n",
              "      --disabled-fill-color: #AAA;\n",
              "      --disabled-bg-color: #DDD;\n",
              "  }\n",
              "\n",
              "  [theme=dark] .colab-df-quickchart {\n",
              "      --bg-color: #3B4455;\n",
              "      --fill-color: #D2E3FC;\n",
              "      --hover-bg-color: #434B5C;\n",
              "      --hover-fill-color: #FFFFFF;\n",
              "      --disabled-bg-color: #3B4455;\n",
              "      --disabled-fill-color: #666;\n",
              "  }\n",
              "\n",
              "  .colab-df-quickchart {\n",
              "    background-color: var(--bg-color);\n",
              "    border: none;\n",
              "    border-radius: 50%;\n",
              "    cursor: pointer;\n",
              "    display: none;\n",
              "    fill: var(--fill-color);\n",
              "    height: 32px;\n",
              "    padding: 0;\n",
              "    width: 32px;\n",
              "  }\n",
              "\n",
              "  .colab-df-quickchart:hover {\n",
              "    background-color: var(--hover-bg-color);\n",
              "    box-shadow: 0 1px 2px rgba(60, 64, 67, 0.3), 0 1px 3px 1px rgba(60, 64, 67, 0.15);\n",
              "    fill: var(--button-hover-fill-color);\n",
              "  }\n",
              "\n",
              "  .colab-df-quickchart-complete:disabled,\n",
              "  .colab-df-quickchart-complete:disabled:hover {\n",
              "    background-color: var(--disabled-bg-color);\n",
              "    fill: var(--disabled-fill-color);\n",
              "    box-shadow: none;\n",
              "  }\n",
              "\n",
              "  .colab-df-spinner {\n",
              "    border: 2px solid var(--fill-color);\n",
              "    border-color: transparent;\n",
              "    border-bottom-color: var(--fill-color);\n",
              "    animation:\n",
              "      spin 1s steps(1) infinite;\n",
              "  }\n",
              "\n",
              "  @keyframes spin {\n",
              "    0% {\n",
              "      border-color: transparent;\n",
              "      border-bottom-color: var(--fill-color);\n",
              "      border-left-color: var(--fill-color);\n",
              "    }\n",
              "    20% {\n",
              "      border-color: transparent;\n",
              "      border-left-color: var(--fill-color);\n",
              "      border-top-color: var(--fill-color);\n",
              "    }\n",
              "    30% {\n",
              "      border-color: transparent;\n",
              "      border-left-color: var(--fill-color);\n",
              "      border-top-color: var(--fill-color);\n",
              "      border-right-color: var(--fill-color);\n",
              "    }\n",
              "    40% {\n",
              "      border-color: transparent;\n",
              "      border-right-color: var(--fill-color);\n",
              "      border-top-color: var(--fill-color);\n",
              "    }\n",
              "    60% {\n",
              "      border-color: transparent;\n",
              "      border-right-color: var(--fill-color);\n",
              "    }\n",
              "    80% {\n",
              "      border-color: transparent;\n",
              "      border-right-color: var(--fill-color);\n",
              "      border-bottom-color: var(--fill-color);\n",
              "    }\n",
              "    90% {\n",
              "      border-color: transparent;\n",
              "      border-bottom-color: var(--fill-color);\n",
              "    }\n",
              "  }\n",
              "</style>\n",
              "\n",
              "  <script>\n",
              "    async function quickchart(key) {\n",
              "      const quickchartButtonEl =\n",
              "        document.querySelector('#' + key + ' button');\n",
              "      quickchartButtonEl.disabled = true;  // To prevent multiple clicks.\n",
              "      quickchartButtonEl.classList.add('colab-df-spinner');\n",
              "      try {\n",
              "        const charts = await google.colab.kernel.invokeFunction(\n",
              "            'suggestCharts', [key], {});\n",
              "      } catch (error) {\n",
              "        console.error('Error during call to suggestCharts:', error);\n",
              "      }\n",
              "      quickchartButtonEl.classList.remove('colab-df-spinner');\n",
              "      quickchartButtonEl.classList.add('colab-df-quickchart-complete');\n",
              "    }\n",
              "    (() => {\n",
              "      let quickchartButtonEl =\n",
              "        document.querySelector('#df-d5e498de-8713-4d47-b48c-3a8b45b27e87 button');\n",
              "      quickchartButtonEl.style.display =\n",
              "        google.colab.kernel.accessAllowed ? 'block' : 'none';\n",
              "    })();\n",
              "  </script>\n",
              "</div>\n",
              "    </div>\n",
              "  </div>\n"
            ]
          },
          "metadata": {},
          "execution_count": 12
        }
      ]
    },
    {
      "cell_type": "code",
      "source": [
        "df.info()"
      ],
      "metadata": {
        "colab": {
          "base_uri": "https://localhost:8080/"
        },
        "id": "a_L6ZGOB9oN1",
        "outputId": "a9628f16-b61a-4948-d681-b52298e99dc4"
      },
      "execution_count": null,
      "outputs": [
        {
          "output_type": "stream",
          "name": "stdout",
          "text": [
            "<class 'pandas.core.frame.DataFrame'>\n",
            "RangeIndex: 12330 entries, 0 to 12329\n",
            "Data columns (total 18 columns):\n",
            " #   Column                   Non-Null Count  Dtype  \n",
            "---  ------                   --------------  -----  \n",
            " 0   Administrative           12330 non-null  int64  \n",
            " 1   Administrative_Duration  12330 non-null  float64\n",
            " 2   Informational            12330 non-null  int64  \n",
            " 3   Informational_Duration   12330 non-null  float64\n",
            " 4   ProductRelated           12330 non-null  int64  \n",
            " 5   ProductRelated_Duration  12330 non-null  float64\n",
            " 6   BounceRates              12330 non-null  float64\n",
            " 7   ExitRates                12330 non-null  float64\n",
            " 8   PageValues               12330 non-null  float64\n",
            " 9   SpecialDay               12330 non-null  float64\n",
            " 10  Month                    12330 non-null  object \n",
            " 11  OperatingSystems         12330 non-null  int64  \n",
            " 12  Browser                  12330 non-null  int64  \n",
            " 13  Region                   12330 non-null  int64  \n",
            " 14  TrafficType              12330 non-null  int64  \n",
            " 15  VisitorType              12330 non-null  object \n",
            " 16  Weekend                  12330 non-null  bool   \n",
            " 17  Revenue                  12330 non-null  bool   \n",
            "dtypes: bool(2), float64(7), int64(7), object(2)\n",
            "memory usage: 1.5+ MB\n"
          ]
        }
      ]
    },
    {
      "cell_type": "code",
      "source": [
        "# checking accuracy before data preprocessing\n",
        "X=df.drop('Revenue',axis=1)\n",
        "y=df['Revenue']\n",
        "from sklearn.model_selection import train_test_split\n",
        "X_train,X_test,y_train,y_test=train_test_split(X,y,test_size=0.2,random_state=42,stratify=y)"
      ],
      "metadata": {
        "id": "ipa_3ANvwd71"
      },
      "execution_count": null,
      "outputs": []
    },
    {
      "cell_type": "code",
      "source": [
        "!pip install lazypredict\n",
        "from lazypredict.Supervised import LazyClassifier\n",
        "clf = LazyClassifier(verbose=0, ignore_warnings=True, custom_metric=None)"
      ],
      "metadata": {
        "colab": {
          "base_uri": "https://localhost:8080/"
        },
        "id": "ENrGvWzrwiuh",
        "outputId": "1c72b39c-b8d4-46c3-9297-b5321f552a4f"
      },
      "execution_count": null,
      "outputs": [
        {
          "output_type": "stream",
          "name": "stdout",
          "text": [
            "Requirement already satisfied: lazypredict in /usr/local/lib/python3.10/dist-packages (0.2.12)\n",
            "Requirement already satisfied: click in /usr/local/lib/python3.10/dist-packages (from lazypredict) (8.1.7)\n",
            "Requirement already satisfied: scikit-learn in /usr/local/lib/python3.10/dist-packages (from lazypredict) (1.2.2)\n",
            "Requirement already satisfied: pandas in /usr/local/lib/python3.10/dist-packages (from lazypredict) (1.5.3)\n",
            "Requirement already satisfied: tqdm in /usr/local/lib/python3.10/dist-packages (from lazypredict) (4.66.1)\n",
            "Requirement already satisfied: joblib in /usr/local/lib/python3.10/dist-packages (from lazypredict) (1.3.2)\n",
            "Requirement already satisfied: lightgbm in /usr/local/lib/python3.10/dist-packages (from lazypredict) (4.1.0)\n",
            "Requirement already satisfied: xgboost in /usr/local/lib/python3.10/dist-packages (from lazypredict) (2.0.2)\n",
            "Requirement already satisfied: numpy in /usr/local/lib/python3.10/dist-packages (from lightgbm->lazypredict) (1.23.5)\n",
            "Requirement already satisfied: scipy in /usr/local/lib/python3.10/dist-packages (from lightgbm->lazypredict) (1.10.1)\n",
            "Requirement already satisfied: python-dateutil>=2.8.1 in /usr/local/lib/python3.10/dist-packages (from pandas->lazypredict) (2.8.2)\n",
            "Requirement already satisfied: pytz>=2020.1 in /usr/local/lib/python3.10/dist-packages (from pandas->lazypredict) (2023.3.post1)\n",
            "Requirement already satisfied: threadpoolctl>=2.0.0 in /usr/local/lib/python3.10/dist-packages (from scikit-learn->lazypredict) (3.2.0)\n",
            "Requirement already satisfied: six>=1.5 in /usr/local/lib/python3.10/dist-packages (from python-dateutil>=2.8.1->pandas->lazypredict) (1.16.0)\n"
          ]
        }
      ]
    },
    {
      "cell_type": "code",
      "source": [
        "models,predictions = clf.fit(X_train, X_test, y_train, y_test)\n",
        "print(models)"
      ],
      "metadata": {
        "colab": {
          "base_uri": "https://localhost:8080/"
        },
        "id": "NbglgO3fwlp5",
        "outputId": "51b7ff34-2e27-44d9-ebd5-e3f222058f0b"
      },
      "execution_count": null,
      "outputs": [
        {
          "output_type": "stream",
          "name": "stderr",
          "text": [
            " 97%|█████████▋| 28/29 [00:51<00:01,  1.56s/it]"
          ]
        },
        {
          "output_type": "stream",
          "name": "stdout",
          "text": [
            "[LightGBM] [Info] Number of positive: 1526, number of negative: 8338\n",
            "[LightGBM] [Info] Auto-choosing row-wise multi-threading, the overhead of testing was 0.001596 seconds.\n",
            "You can set `force_row_wise=true` to remove the overhead.\n",
            "And if memory is not enough, you can set `force_col_wise=true`.\n",
            "[LightGBM] [Info] Total Bins 1907\n",
            "[LightGBM] [Info] Number of data points in the train set: 9864, number of used features: 27\n",
            "[LightGBM] [Info] [binary:BoostFromScore]: pavg=0.154704 -> initscore=-1.698173\n",
            "[LightGBM] [Info] Start training from score -1.698173\n"
          ]
        },
        {
          "output_type": "stream",
          "name": "stderr",
          "text": [
            "100%|██████████| 29/29 [00:51<00:00,  1.78s/it]"
          ]
        },
        {
          "output_type": "stream",
          "name": "stdout",
          "text": [
            "                               Accuracy  Balanced Accuracy  ROC AUC  F1 Score  \\\n",
            "Model                                                                           \n",
            "LGBMClassifier                     0.90               0.77     0.77      0.90   \n",
            "XGBClassifier                      0.89               0.77     0.77      0.89   \n",
            "Perceptron                         0.82               0.77     0.77      0.83   \n",
            "RandomForestClassifier             0.90               0.76     0.76      0.89   \n",
            "NearestCentroid                    0.82               0.75     0.75      0.83   \n",
            "AdaBoostClassifier                 0.89               0.75     0.75      0.88   \n",
            "BernoulliNB                        0.84               0.74     0.74      0.85   \n",
            "BaggingClassifier                  0.89               0.74     0.74      0.89   \n",
            "DecisionTreeClassifier             0.86               0.73     0.73      0.86   \n",
            "PassiveAggressiveClassifier        0.84               0.72     0.72      0.84   \n",
            "GaussianNB                         0.67               0.72     0.72      0.72   \n",
            "SVC                                0.89               0.71     0.71      0.88   \n",
            "QuadraticDiscriminantAnalysis      0.70               0.71     0.71      0.74   \n",
            "ExtraTreesClassifier               0.89               0.71     0.71      0.88   \n",
            "ExtraTreeClassifier                0.85               0.70     0.70      0.85   \n",
            "SGDClassifier                      0.89               0.67     0.67      0.87   \n",
            "LabelSpreading                     0.84               0.67     0.67      0.84   \n",
            "LabelPropagation                   0.84               0.67     0.67      0.84   \n",
            "KNeighborsClassifier               0.87               0.67     0.67      0.86   \n",
            "LogisticRegression                 0.88               0.67     0.67      0.86   \n",
            "CalibratedClassifierCV             0.88               0.66     0.66      0.86   \n",
            "LinearSVC                          0.88               0.65     0.65      0.86   \n",
            "LinearDiscriminantAnalysis         0.88               0.64     0.64      0.85   \n",
            "RidgeClassifier                    0.87               0.61     0.61      0.84   \n",
            "RidgeClassifierCV                  0.87               0.61     0.61      0.84   \n",
            "DummyClassifier                    0.85               0.50     0.50      0.77   \n",
            "\n",
            "                               Time Taken  \n",
            "Model                                      \n",
            "LGBMClassifier                       0.29  \n",
            "XGBClassifier                        0.32  \n",
            "Perceptron                           0.22  \n",
            "RandomForestClassifier               3.16  \n",
            "NearestCentroid                      0.19  \n",
            "AdaBoostClassifier                   0.71  \n",
            "BernoulliNB                          0.06  \n",
            "BaggingClassifier                    0.57  \n",
            "DecisionTreeClassifier               0.13  \n",
            "PassiveAggressiveClassifier          0.26  \n",
            "GaussianNB                           0.10  \n",
            "SVC                                  7.58  \n",
            "QuadraticDiscriminantAnalysis        0.23  \n",
            "ExtraTreesClassifier                 1.55  \n",
            "ExtraTreeClassifier                  0.05  \n",
            "SGDClassifier                        0.37  \n",
            "LabelSpreading                      14.74  \n",
            "LabelPropagation                     8.97  \n",
            "KNeighborsClassifier                 0.91  \n",
            "LogisticRegression                   0.52  \n",
            "CalibratedClassifierCV               6.11  \n",
            "LinearSVC                            3.36  \n",
            "LinearDiscriminantAnalysis           0.49  \n",
            "RidgeClassifier                      0.17  \n",
            "RidgeClassifierCV                    0.20  \n",
            "DummyClassifier                      0.04  \n"
          ]
        },
        {
          "output_type": "stream",
          "name": "stderr",
          "text": [
            "\n"
          ]
        }
      ]
    },
    {
      "cell_type": "code",
      "source": [
        "# DATA PREPROCESSING\n",
        "# 1 DATA CLEANING"
      ],
      "metadata": {
        "id": "hu0ugbXZwsD-"
      },
      "execution_count": null,
      "outputs": []
    },
    {
      "cell_type": "code",
      "source": [
        "#1.1 CHECK MISSING VALUES\n",
        "df.isnull().sum()"
      ],
      "metadata": {
        "colab": {
          "base_uri": "https://localhost:8080/"
        },
        "id": "ar5Nwo8d9oWY",
        "outputId": "068156d5-7fcb-48d7-b89f-2aa54cc5fa6a"
      },
      "execution_count": null,
      "outputs": [
        {
          "output_type": "execute_result",
          "data": {
            "text/plain": [
              "Administrative             0\n",
              "Administrative_Duration    0\n",
              "Informational              0\n",
              "Informational_Duration     0\n",
              "ProductRelated             0\n",
              "ProductRelated_Duration    0\n",
              "BounceRates                0\n",
              "ExitRates                  0\n",
              "PageValues                 0\n",
              "SpecialDay                 0\n",
              "Month                      0\n",
              "OperatingSystems           0\n",
              "Browser                    0\n",
              "Region                     0\n",
              "TrafficType                0\n",
              "VisitorType                0\n",
              "Weekend                    0\n",
              "Revenue                    0\n",
              "dtype: int64"
            ]
          },
          "metadata": {},
          "execution_count": 18
        }
      ]
    },
    {
      "cell_type": "code",
      "source": [
        "len(df.columns)"
      ],
      "metadata": {
        "colab": {
          "base_uri": "https://localhost:8080/"
        },
        "id": "gqm2tC1J9od7",
        "outputId": "ef434978-e399-4be7-9d75-02d15b2590d5"
      },
      "execution_count": null,
      "outputs": [
        {
          "output_type": "execute_result",
          "data": {
            "text/plain": [
              "18"
            ]
          },
          "metadata": {},
          "execution_count": 19
        }
      ]
    },
    {
      "cell_type": "code",
      "source": [
        "#DROPPING FEATURES\n",
        "df = df.drop(['Administrative', 'Informational', 'ProductRelated'], axis=1)"
      ],
      "metadata": {
        "id": "LWuyMSXX948o"
      },
      "execution_count": null,
      "outputs": []
    },
    {
      "cell_type": "code",
      "source": [
        "len(df.columns)"
      ],
      "metadata": {
        "colab": {
          "base_uri": "https://localhost:8080/"
        },
        "id": "XIbZvNKY95Gt",
        "outputId": "33613bee-33aa-4634-cfc4-446befb3ba89"
      },
      "execution_count": null,
      "outputs": [
        {
          "output_type": "execute_result",
          "data": {
            "text/plain": [
              "15"
            ]
          },
          "metadata": {},
          "execution_count": 21
        }
      ]
    },
    {
      "cell_type": "code",
      "source": [
        "#1.2 OUTLIER ANALYSIS\n",
        "# setup(data=df, target='Revenue',remove_outliers = True, outliers_threshold = 0.05)"
      ],
      "metadata": {
        "id": "McbPkquVwyTB"
      },
      "execution_count": null,
      "outputs": []
    },
    {
      "cell_type": "code",
      "source": [
        "# 2 DATA TRANSFORMATION"
      ],
      "metadata": {
        "id": "uK-ZONh6w2cI"
      },
      "execution_count": null,
      "outputs": []
    },
    {
      "cell_type": "code",
      "source": [
        "# 2.1 FEATURE CONSTRUCTION : LABEL ENCODING\n",
        "from sklearn.preprocessing import LabelEncoder"
      ],
      "metadata": {
        "id": "g43h-5d295RV"
      },
      "execution_count": null,
      "outputs": []
    },
    {
      "cell_type": "code",
      "source": [
        "categorical_columns=['Weekend','Revenue']\n",
        "for col in categorical_columns:\n",
        "    encoder = LabelEncoder()\n",
        "    encoder.fit(df[col])\n",
        "    print('Column:', col)\n",
        "    print('Original categories:', encoder.classes_)\n",
        "    print('Encoded values:', encoder.transform(encoder.classes_))\n",
        "    print('\\n')\n",
        "    df[col] = encoder.fit_transform(df[col])"
      ],
      "metadata": {
        "colab": {
          "base_uri": "https://localhost:8080/"
        },
        "id": "U2Ch6LVz95Z2",
        "outputId": "4b9e65bb-aff6-450b-a986-843ab47b17ed"
      },
      "execution_count": null,
      "outputs": [
        {
          "output_type": "stream",
          "name": "stdout",
          "text": [
            "Column: Weekend\n",
            "Original categories: [False  True]\n",
            "Encoded values: [0 1]\n",
            "\n",
            "\n",
            "Column: Revenue\n",
            "Original categories: [False  True]\n",
            "Encoded values: [0 1]\n",
            "\n",
            "\n"
          ]
        }
      ]
    },
    {
      "cell_type": "code",
      "source": [
        "df['Month'] = df['Month'].map({'Feb': 2, 'Mar': 3, 'May': 5,'June':6,'Jul':7,'Aug':8,'Sep':9,'Oct':10,'Nov':11,'Dec':12})"
      ],
      "metadata": {
        "id": "pwylwTQc95hJ"
      },
      "execution_count": null,
      "outputs": []
    },
    {
      "cell_type": "code",
      "source": [
        "df.head()"
      ],
      "metadata": {
        "colab": {
          "base_uri": "https://localhost:8080/",
          "height": 226
        },
        "id": "rR70u6yp-UD8",
        "outputId": "5d2f1717-3426-47be-eb33-410575368d2f"
      },
      "execution_count": null,
      "outputs": [
        {
          "output_type": "execute_result",
          "data": {
            "text/plain": [
              "   Administrative_Duration  Informational_Duration  ProductRelated_Duration  \\\n",
              "0                     0.00                    0.00                     0.00   \n",
              "1                     0.00                    0.00                    64.00   \n",
              "2                     0.00                    0.00                     0.00   \n",
              "3                     0.00                    0.00                     2.67   \n",
              "4                     0.00                    0.00                   627.50   \n",
              "\n",
              "   BounceRates  ExitRates  PageValues  SpecialDay  Month  OperatingSystems  \\\n",
              "0         0.20       0.20        0.00        0.00      2                 1   \n",
              "1         0.00       0.10        0.00        0.00      2                 2   \n",
              "2         0.20       0.20        0.00        0.00      2                 4   \n",
              "3         0.05       0.14        0.00        0.00      2                 3   \n",
              "4         0.02       0.05        0.00        0.00      2                 3   \n",
              "\n",
              "   Browser  Region  TrafficType        VisitorType  Weekend  Revenue  \n",
              "0        1       1            1  Returning_Visitor        0        0  \n",
              "1        2       1            2  Returning_Visitor        0        0  \n",
              "2        1       9            3  Returning_Visitor        0        0  \n",
              "3        2       2            4  Returning_Visitor        0        0  \n",
              "4        3       1            4  Returning_Visitor        1        0  "
            ],
            "text/html": [
              "\n",
              "  <div id=\"df-bc2ea63a-c117-460e-8dc3-4a02ca6c04a6\" class=\"colab-df-container\">\n",
              "    <div>\n",
              "<style scoped>\n",
              "    .dataframe tbody tr th:only-of-type {\n",
              "        vertical-align: middle;\n",
              "    }\n",
              "\n",
              "    .dataframe tbody tr th {\n",
              "        vertical-align: top;\n",
              "    }\n",
              "\n",
              "    .dataframe thead th {\n",
              "        text-align: right;\n",
              "    }\n",
              "</style>\n",
              "<table border=\"1\" class=\"dataframe\">\n",
              "  <thead>\n",
              "    <tr style=\"text-align: right;\">\n",
              "      <th></th>\n",
              "      <th>Administrative_Duration</th>\n",
              "      <th>Informational_Duration</th>\n",
              "      <th>ProductRelated_Duration</th>\n",
              "      <th>BounceRates</th>\n",
              "      <th>ExitRates</th>\n",
              "      <th>PageValues</th>\n",
              "      <th>SpecialDay</th>\n",
              "      <th>Month</th>\n",
              "      <th>OperatingSystems</th>\n",
              "      <th>Browser</th>\n",
              "      <th>Region</th>\n",
              "      <th>TrafficType</th>\n",
              "      <th>VisitorType</th>\n",
              "      <th>Weekend</th>\n",
              "      <th>Revenue</th>\n",
              "    </tr>\n",
              "  </thead>\n",
              "  <tbody>\n",
              "    <tr>\n",
              "      <th>0</th>\n",
              "      <td>0.00</td>\n",
              "      <td>0.00</td>\n",
              "      <td>0.00</td>\n",
              "      <td>0.20</td>\n",
              "      <td>0.20</td>\n",
              "      <td>0.00</td>\n",
              "      <td>0.00</td>\n",
              "      <td>2</td>\n",
              "      <td>1</td>\n",
              "      <td>1</td>\n",
              "      <td>1</td>\n",
              "      <td>1</td>\n",
              "      <td>Returning_Visitor</td>\n",
              "      <td>0</td>\n",
              "      <td>0</td>\n",
              "    </tr>\n",
              "    <tr>\n",
              "      <th>1</th>\n",
              "      <td>0.00</td>\n",
              "      <td>0.00</td>\n",
              "      <td>64.00</td>\n",
              "      <td>0.00</td>\n",
              "      <td>0.10</td>\n",
              "      <td>0.00</td>\n",
              "      <td>0.00</td>\n",
              "      <td>2</td>\n",
              "      <td>2</td>\n",
              "      <td>2</td>\n",
              "      <td>1</td>\n",
              "      <td>2</td>\n",
              "      <td>Returning_Visitor</td>\n",
              "      <td>0</td>\n",
              "      <td>0</td>\n",
              "    </tr>\n",
              "    <tr>\n",
              "      <th>2</th>\n",
              "      <td>0.00</td>\n",
              "      <td>0.00</td>\n",
              "      <td>0.00</td>\n",
              "      <td>0.20</td>\n",
              "      <td>0.20</td>\n",
              "      <td>0.00</td>\n",
              "      <td>0.00</td>\n",
              "      <td>2</td>\n",
              "      <td>4</td>\n",
              "      <td>1</td>\n",
              "      <td>9</td>\n",
              "      <td>3</td>\n",
              "      <td>Returning_Visitor</td>\n",
              "      <td>0</td>\n",
              "      <td>0</td>\n",
              "    </tr>\n",
              "    <tr>\n",
              "      <th>3</th>\n",
              "      <td>0.00</td>\n",
              "      <td>0.00</td>\n",
              "      <td>2.67</td>\n",
              "      <td>0.05</td>\n",
              "      <td>0.14</td>\n",
              "      <td>0.00</td>\n",
              "      <td>0.00</td>\n",
              "      <td>2</td>\n",
              "      <td>3</td>\n",
              "      <td>2</td>\n",
              "      <td>2</td>\n",
              "      <td>4</td>\n",
              "      <td>Returning_Visitor</td>\n",
              "      <td>0</td>\n",
              "      <td>0</td>\n",
              "    </tr>\n",
              "    <tr>\n",
              "      <th>4</th>\n",
              "      <td>0.00</td>\n",
              "      <td>0.00</td>\n",
              "      <td>627.50</td>\n",
              "      <td>0.02</td>\n",
              "      <td>0.05</td>\n",
              "      <td>0.00</td>\n",
              "      <td>0.00</td>\n",
              "      <td>2</td>\n",
              "      <td>3</td>\n",
              "      <td>3</td>\n",
              "      <td>1</td>\n",
              "      <td>4</td>\n",
              "      <td>Returning_Visitor</td>\n",
              "      <td>1</td>\n",
              "      <td>0</td>\n",
              "    </tr>\n",
              "  </tbody>\n",
              "</table>\n",
              "</div>\n",
              "    <div class=\"colab-df-buttons\">\n",
              "\n",
              "  <div class=\"colab-df-container\">\n",
              "    <button class=\"colab-df-convert\" onclick=\"convertToInteractive('df-bc2ea63a-c117-460e-8dc3-4a02ca6c04a6')\"\n",
              "            title=\"Convert this dataframe to an interactive table.\"\n",
              "            style=\"display:none;\">\n",
              "\n",
              "  <svg xmlns=\"http://www.w3.org/2000/svg\" height=\"24px\" viewBox=\"0 -960 960 960\">\n",
              "    <path d=\"M120-120v-720h720v720H120Zm60-500h600v-160H180v160Zm220 220h160v-160H400v160Zm0 220h160v-160H400v160ZM180-400h160v-160H180v160Zm440 0h160v-160H620v160ZM180-180h160v-160H180v160Zm440 0h160v-160H620v160Z\"/>\n",
              "  </svg>\n",
              "    </button>\n",
              "\n",
              "  <style>\n",
              "    .colab-df-container {\n",
              "      display:flex;\n",
              "      gap: 12px;\n",
              "    }\n",
              "\n",
              "    .colab-df-convert {\n",
              "      background-color: #E8F0FE;\n",
              "      border: none;\n",
              "      border-radius: 50%;\n",
              "      cursor: pointer;\n",
              "      display: none;\n",
              "      fill: #1967D2;\n",
              "      height: 32px;\n",
              "      padding: 0 0 0 0;\n",
              "      width: 32px;\n",
              "    }\n",
              "\n",
              "    .colab-df-convert:hover {\n",
              "      background-color: #E2EBFA;\n",
              "      box-shadow: 0px 1px 2px rgba(60, 64, 67, 0.3), 0px 1px 3px 1px rgba(60, 64, 67, 0.15);\n",
              "      fill: #174EA6;\n",
              "    }\n",
              "\n",
              "    .colab-df-buttons div {\n",
              "      margin-bottom: 4px;\n",
              "    }\n",
              "\n",
              "    [theme=dark] .colab-df-convert {\n",
              "      background-color: #3B4455;\n",
              "      fill: #D2E3FC;\n",
              "    }\n",
              "\n",
              "    [theme=dark] .colab-df-convert:hover {\n",
              "      background-color: #434B5C;\n",
              "      box-shadow: 0px 1px 3px 1px rgba(0, 0, 0, 0.15);\n",
              "      filter: drop-shadow(0px 1px 2px rgba(0, 0, 0, 0.3));\n",
              "      fill: #FFFFFF;\n",
              "    }\n",
              "  </style>\n",
              "\n",
              "    <script>\n",
              "      const buttonEl =\n",
              "        document.querySelector('#df-bc2ea63a-c117-460e-8dc3-4a02ca6c04a6 button.colab-df-convert');\n",
              "      buttonEl.style.display =\n",
              "        google.colab.kernel.accessAllowed ? 'block' : 'none';\n",
              "\n",
              "      async function convertToInteractive(key) {\n",
              "        const element = document.querySelector('#df-bc2ea63a-c117-460e-8dc3-4a02ca6c04a6');\n",
              "        const dataTable =\n",
              "          await google.colab.kernel.invokeFunction('convertToInteractive',\n",
              "                                                    [key], {});\n",
              "        if (!dataTable) return;\n",
              "\n",
              "        const docLinkHtml = 'Like what you see? Visit the ' +\n",
              "          '<a target=\"_blank\" href=https://colab.research.google.com/notebooks/data_table.ipynb>data table notebook</a>'\n",
              "          + ' to learn more about interactive tables.';\n",
              "        element.innerHTML = '';\n",
              "        dataTable['output_type'] = 'display_data';\n",
              "        await google.colab.output.renderOutput(dataTable, element);\n",
              "        const docLink = document.createElement('div');\n",
              "        docLink.innerHTML = docLinkHtml;\n",
              "        element.appendChild(docLink);\n",
              "      }\n",
              "    </script>\n",
              "  </div>\n",
              "\n",
              "\n",
              "<div id=\"df-9aaa093d-dd55-4e68-877d-978812446a56\">\n",
              "  <button class=\"colab-df-quickchart\" onclick=\"quickchart('df-9aaa093d-dd55-4e68-877d-978812446a56')\"\n",
              "            title=\"Suggest charts\"\n",
              "            style=\"display:none;\">\n",
              "\n",
              "<svg xmlns=\"http://www.w3.org/2000/svg\" height=\"24px\"viewBox=\"0 0 24 24\"\n",
              "     width=\"24px\">\n",
              "    <g>\n",
              "        <path d=\"M19 3H5c-1.1 0-2 .9-2 2v14c0 1.1.9 2 2 2h14c1.1 0 2-.9 2-2V5c0-1.1-.9-2-2-2zM9 17H7v-7h2v7zm4 0h-2V7h2v10zm4 0h-2v-4h2v4z\"/>\n",
              "    </g>\n",
              "</svg>\n",
              "  </button>\n",
              "\n",
              "<style>\n",
              "  .colab-df-quickchart {\n",
              "      --bg-color: #E8F0FE;\n",
              "      --fill-color: #1967D2;\n",
              "      --hover-bg-color: #E2EBFA;\n",
              "      --hover-fill-color: #174EA6;\n",
              "      --disabled-fill-color: #AAA;\n",
              "      --disabled-bg-color: #DDD;\n",
              "  }\n",
              "\n",
              "  [theme=dark] .colab-df-quickchart {\n",
              "      --bg-color: #3B4455;\n",
              "      --fill-color: #D2E3FC;\n",
              "      --hover-bg-color: #434B5C;\n",
              "      --hover-fill-color: #FFFFFF;\n",
              "      --disabled-bg-color: #3B4455;\n",
              "      --disabled-fill-color: #666;\n",
              "  }\n",
              "\n",
              "  .colab-df-quickchart {\n",
              "    background-color: var(--bg-color);\n",
              "    border: none;\n",
              "    border-radius: 50%;\n",
              "    cursor: pointer;\n",
              "    display: none;\n",
              "    fill: var(--fill-color);\n",
              "    height: 32px;\n",
              "    padding: 0;\n",
              "    width: 32px;\n",
              "  }\n",
              "\n",
              "  .colab-df-quickchart:hover {\n",
              "    background-color: var(--hover-bg-color);\n",
              "    box-shadow: 0 1px 2px rgba(60, 64, 67, 0.3), 0 1px 3px 1px rgba(60, 64, 67, 0.15);\n",
              "    fill: var(--button-hover-fill-color);\n",
              "  }\n",
              "\n",
              "  .colab-df-quickchart-complete:disabled,\n",
              "  .colab-df-quickchart-complete:disabled:hover {\n",
              "    background-color: var(--disabled-bg-color);\n",
              "    fill: var(--disabled-fill-color);\n",
              "    box-shadow: none;\n",
              "  }\n",
              "\n",
              "  .colab-df-spinner {\n",
              "    border: 2px solid var(--fill-color);\n",
              "    border-color: transparent;\n",
              "    border-bottom-color: var(--fill-color);\n",
              "    animation:\n",
              "      spin 1s steps(1) infinite;\n",
              "  }\n",
              "\n",
              "  @keyframes spin {\n",
              "    0% {\n",
              "      border-color: transparent;\n",
              "      border-bottom-color: var(--fill-color);\n",
              "      border-left-color: var(--fill-color);\n",
              "    }\n",
              "    20% {\n",
              "      border-color: transparent;\n",
              "      border-left-color: var(--fill-color);\n",
              "      border-top-color: var(--fill-color);\n",
              "    }\n",
              "    30% {\n",
              "      border-color: transparent;\n",
              "      border-left-color: var(--fill-color);\n",
              "      border-top-color: var(--fill-color);\n",
              "      border-right-color: var(--fill-color);\n",
              "    }\n",
              "    40% {\n",
              "      border-color: transparent;\n",
              "      border-right-color: var(--fill-color);\n",
              "      border-top-color: var(--fill-color);\n",
              "    }\n",
              "    60% {\n",
              "      border-color: transparent;\n",
              "      border-right-color: var(--fill-color);\n",
              "    }\n",
              "    80% {\n",
              "      border-color: transparent;\n",
              "      border-right-color: var(--fill-color);\n",
              "      border-bottom-color: var(--fill-color);\n",
              "    }\n",
              "    90% {\n",
              "      border-color: transparent;\n",
              "      border-bottom-color: var(--fill-color);\n",
              "    }\n",
              "  }\n",
              "</style>\n",
              "\n",
              "  <script>\n",
              "    async function quickchart(key) {\n",
              "      const quickchartButtonEl =\n",
              "        document.querySelector('#' + key + ' button');\n",
              "      quickchartButtonEl.disabled = true;  // To prevent multiple clicks.\n",
              "      quickchartButtonEl.classList.add('colab-df-spinner');\n",
              "      try {\n",
              "        const charts = await google.colab.kernel.invokeFunction(\n",
              "            'suggestCharts', [key], {});\n",
              "      } catch (error) {\n",
              "        console.error('Error during call to suggestCharts:', error);\n",
              "      }\n",
              "      quickchartButtonEl.classList.remove('colab-df-spinner');\n",
              "      quickchartButtonEl.classList.add('colab-df-quickchart-complete');\n",
              "    }\n",
              "    (() => {\n",
              "      let quickchartButtonEl =\n",
              "        document.querySelector('#df-9aaa093d-dd55-4e68-877d-978812446a56 button');\n",
              "      quickchartButtonEl.style.display =\n",
              "        google.colab.kernel.accessAllowed ? 'block' : 'none';\n",
              "    })();\n",
              "  </script>\n",
              "</div>\n",
              "    </div>\n",
              "  </div>\n"
            ]
          },
          "metadata": {},
          "execution_count": 27
        }
      ]
    },
    {
      "cell_type": "code",
      "source": [
        "df.duplicated().value_counts()"
      ],
      "metadata": {
        "colab": {
          "base_uri": "https://localhost:8080/"
        },
        "id": "YfJP3GK3-WAr",
        "outputId": "cc9a7c2e-d5f7-4168-a553-611bf928c613"
      },
      "execution_count": null,
      "outputs": [
        {
          "output_type": "execute_result",
          "data": {
            "text/plain": [
              "False    12157\n",
              "True       173\n",
              "dtype: int64"
            ]
          },
          "metadata": {},
          "execution_count": 28
        }
      ]
    },
    {
      "cell_type": "code",
      "source": [
        "duplicated_rows = df[df.duplicated()]\n",
        "\n",
        "# Print the duplicated rows\n",
        "print(duplicated_rows)"
      ],
      "metadata": {
        "colab": {
          "base_uri": "https://localhost:8080/"
        },
        "id": "YJPSE5cK-W7D",
        "outputId": "f088ecb3-0847-4e35-e5b0-42a4f3a7e4a4"
      },
      "execution_count": null,
      "outputs": [
        {
          "output_type": "stream",
          "name": "stdout",
          "text": [
            "       Administrative_Duration  Informational_Duration  \\\n",
            "158                       0.00                    0.00   \n",
            "159                       0.00                    0.00   \n",
            "178                       0.00                    0.00   \n",
            "330                       0.00                    0.00   \n",
            "356                       0.00                    0.00   \n",
            "...                        ...                     ...   \n",
            "11939                     0.00                    0.00   \n",
            "12159                     0.00                    0.00   \n",
            "12180                     0.00                    0.00   \n",
            "12185                     0.00                    0.00   \n",
            "12301                     0.00                    0.00   \n",
            "\n",
            "       ProductRelated_Duration  BounceRates  ExitRates  PageValues  \\\n",
            "158                       0.00         0.20       0.20        0.00   \n",
            "159                       0.00         0.20       0.20        0.00   \n",
            "178                       0.00         0.20       0.20        0.00   \n",
            "330                       0.00         0.20       0.20        0.00   \n",
            "356                       0.00         0.20       0.20        0.00   \n",
            "...                        ...          ...        ...         ...   \n",
            "11939                     0.00         0.20       0.20        0.00   \n",
            "12159                     0.00         0.20       0.20        0.00   \n",
            "12180                     0.00         0.20       0.20        0.00   \n",
            "12185                     0.00         0.20       0.20        0.00   \n",
            "12301                     0.00         0.20       0.20        0.00   \n",
            "\n",
            "       SpecialDay  Month  OperatingSystems  Browser  Region  TrafficType  \\\n",
            "158          0.00      2                 1        1       1            3   \n",
            "159          0.00      2                 3        2       3            3   \n",
            "178          0.00      2                 3        2       3            3   \n",
            "330          0.00      3                 3        2       3            1   \n",
            "356          0.00      3                 2        2       4            1   \n",
            "...           ...    ...               ...      ...     ...          ...   \n",
            "11939        0.00     11                 1        1       1           15   \n",
            "12159        0.00     12                 1        1       1            3   \n",
            "12180        0.00     12                 1       13       9           20   \n",
            "12185        0.00     12                 8       13       9           20   \n",
            "12301        0.00     11                 1        1       4            1   \n",
            "\n",
            "             VisitorType  Weekend  Revenue  \n",
            "158    Returning_Visitor        0        0  \n",
            "159    Returning_Visitor        0        0  \n",
            "178    Returning_Visitor        0        0  \n",
            "330    Returning_Visitor        0        0  \n",
            "356    Returning_Visitor        0        0  \n",
            "...                  ...      ...      ...  \n",
            "11939  Returning_Visitor        0        0  \n",
            "12159  Returning_Visitor        0        0  \n",
            "12180  Returning_Visitor        0        0  \n",
            "12185              Other        0        0  \n",
            "12301  Returning_Visitor        0        0  \n",
            "\n",
            "[173 rows x 15 columns]\n"
          ]
        }
      ]
    },
    {
      "cell_type": "code",
      "source": [
        "df.drop_duplicates(inplace=True)"
      ],
      "metadata": {
        "id": "y1xlTD43-XFw"
      },
      "execution_count": null,
      "outputs": []
    },
    {
      "cell_type": "code",
      "source": [
        "# 2.2 NORMALIZATION : MIN-MAX METHOD\n",
        "cols_to_scale = ['Administrative_Duration','Informational_Duration','ProductRelated_Duration','BounceRates','ExitRates','PageValues','SpecialDay']\n",
        "\n",
        "\n",
        "#using pycaret\n",
        "# setup(data=df, target='Revenue',\n",
        "      # normalize = True, normalize_method = 'minmax')\n",
        "\n",
        "#using sklearn\n",
        "from sklearn.preprocessing import MinMaxScaler\n",
        "scaler = MinMaxScaler()\n",
        "df[cols_to_scale] = scaler.fit_transform(df[cols_to_scale])"
      ],
      "metadata": {
        "id": "AIOam4qT_oiC"
      },
      "execution_count": null,
      "outputs": []
    },
    {
      "cell_type": "code",
      "source": [
        "# 3 DATA REDUCTION USING PCA"
      ],
      "metadata": {
        "id": "hUTpemMOxPyW"
      },
      "execution_count": null,
      "outputs": []
    },
    {
      "cell_type": "code",
      "source": [
        "from pycaret.classification import *\n",
        "setup(data=df, target='Revenue',pca = True, pca_method = 'linear')\n",
        "# create_model('pca')\n",
        "# evaluate_model()\n",
        "\n",
        "# plot_model(model='pca', plot='explained_variance_ratio')\n",
        "\n",
        "# # Finalize the PCA model for later use\n",
        "# final_pca = finalize_model(get_model('pca'))\n",
        "\n",
        "# transformed_data = predict_model(final_pca, data=df)\n",
        "\n",
        "# print(transformed_data[['PC1', 'PC2']])"
      ],
      "metadata": {
        "colab": {
          "base_uri": "https://localhost:8080/",
          "height": 850
        },
        "id": "sIAkl3iAxQ1Q",
        "outputId": "d91527a1-0d33-42c3-fde5-092d79f56292"
      },
      "execution_count": null,
      "outputs": [
        {
          "output_type": "display_data",
          "data": {
            "text/plain": [
              "<pandas.io.formats.style.Styler at 0x7b62e03139a0>"
            ],
            "text/html": [
              "<style type=\"text/css\">\n",
              "#T_39c79_row9_col1, #T_39c79_row15_col1 {\n",
              "  background-color: lightgreen;\n",
              "}\n",
              "</style>\n",
              "<table id=\"T_39c79\" class=\"dataframe\">\n",
              "  <thead>\n",
              "    <tr>\n",
              "      <th class=\"blank level0\" >&nbsp;</th>\n",
              "      <th id=\"T_39c79_level0_col0\" class=\"col_heading level0 col0\" >Description</th>\n",
              "      <th id=\"T_39c79_level0_col1\" class=\"col_heading level0 col1\" >Value</th>\n",
              "    </tr>\n",
              "  </thead>\n",
              "  <tbody>\n",
              "    <tr>\n",
              "      <th id=\"T_39c79_level0_row0\" class=\"row_heading level0 row0\" >0</th>\n",
              "      <td id=\"T_39c79_row0_col0\" class=\"data row0 col0\" >Session id</td>\n",
              "      <td id=\"T_39c79_row0_col1\" class=\"data row0 col1\" >876</td>\n",
              "    </tr>\n",
              "    <tr>\n",
              "      <th id=\"T_39c79_level0_row1\" class=\"row_heading level0 row1\" >1</th>\n",
              "      <td id=\"T_39c79_row1_col0\" class=\"data row1 col0\" >Target</td>\n",
              "      <td id=\"T_39c79_row1_col1\" class=\"data row1 col1\" >Revenue</td>\n",
              "    </tr>\n",
              "    <tr>\n",
              "      <th id=\"T_39c79_level0_row2\" class=\"row_heading level0 row2\" >2</th>\n",
              "      <td id=\"T_39c79_row2_col0\" class=\"data row2 col0\" >Target type</td>\n",
              "      <td id=\"T_39c79_row2_col1\" class=\"data row2 col1\" >Binary</td>\n",
              "    </tr>\n",
              "    <tr>\n",
              "      <th id=\"T_39c79_level0_row3\" class=\"row_heading level0 row3\" >3</th>\n",
              "      <td id=\"T_39c79_row3_col0\" class=\"data row3 col0\" >Original data shape</td>\n",
              "      <td id=\"T_39c79_row3_col1\" class=\"data row3 col1\" >(12157, 15)</td>\n",
              "    </tr>\n",
              "    <tr>\n",
              "      <th id=\"T_39c79_level0_row4\" class=\"row_heading level0 row4\" >4</th>\n",
              "      <td id=\"T_39c79_row4_col0\" class=\"data row4 col0\" >Transformed data shape</td>\n",
              "      <td id=\"T_39c79_row4_col1\" class=\"data row4 col1\" >(12157, 17)</td>\n",
              "    </tr>\n",
              "    <tr>\n",
              "      <th id=\"T_39c79_level0_row5\" class=\"row_heading level0 row5\" >5</th>\n",
              "      <td id=\"T_39c79_row5_col0\" class=\"data row5 col0\" >Transformed train set shape</td>\n",
              "      <td id=\"T_39c79_row5_col1\" class=\"data row5 col1\" >(8509, 17)</td>\n",
              "    </tr>\n",
              "    <tr>\n",
              "      <th id=\"T_39c79_level0_row6\" class=\"row_heading level0 row6\" >6</th>\n",
              "      <td id=\"T_39c79_row6_col0\" class=\"data row6 col0\" >Transformed test set shape</td>\n",
              "      <td id=\"T_39c79_row6_col1\" class=\"data row6 col1\" >(3648, 17)</td>\n",
              "    </tr>\n",
              "    <tr>\n",
              "      <th id=\"T_39c79_level0_row7\" class=\"row_heading level0 row7\" >7</th>\n",
              "      <td id=\"T_39c79_row7_col0\" class=\"data row7 col0\" >Numeric features</td>\n",
              "      <td id=\"T_39c79_row7_col1\" class=\"data row7 col1\" >13</td>\n",
              "    </tr>\n",
              "    <tr>\n",
              "      <th id=\"T_39c79_level0_row8\" class=\"row_heading level0 row8\" >8</th>\n",
              "      <td id=\"T_39c79_row8_col0\" class=\"data row8 col0\" >Categorical features</td>\n",
              "      <td id=\"T_39c79_row8_col1\" class=\"data row8 col1\" >1</td>\n",
              "    </tr>\n",
              "    <tr>\n",
              "      <th id=\"T_39c79_level0_row9\" class=\"row_heading level0 row9\" >9</th>\n",
              "      <td id=\"T_39c79_row9_col0\" class=\"data row9 col0\" >Preprocess</td>\n",
              "      <td id=\"T_39c79_row9_col1\" class=\"data row9 col1\" >True</td>\n",
              "    </tr>\n",
              "    <tr>\n",
              "      <th id=\"T_39c79_level0_row10\" class=\"row_heading level0 row10\" >10</th>\n",
              "      <td id=\"T_39c79_row10_col0\" class=\"data row10 col0\" >Imputation type</td>\n",
              "      <td id=\"T_39c79_row10_col1\" class=\"data row10 col1\" >simple</td>\n",
              "    </tr>\n",
              "    <tr>\n",
              "      <th id=\"T_39c79_level0_row11\" class=\"row_heading level0 row11\" >11</th>\n",
              "      <td id=\"T_39c79_row11_col0\" class=\"data row11 col0\" >Numeric imputation</td>\n",
              "      <td id=\"T_39c79_row11_col1\" class=\"data row11 col1\" >mean</td>\n",
              "    </tr>\n",
              "    <tr>\n",
              "      <th id=\"T_39c79_level0_row12\" class=\"row_heading level0 row12\" >12</th>\n",
              "      <td id=\"T_39c79_row12_col0\" class=\"data row12 col0\" >Categorical imputation</td>\n",
              "      <td id=\"T_39c79_row12_col1\" class=\"data row12 col1\" >mode</td>\n",
              "    </tr>\n",
              "    <tr>\n",
              "      <th id=\"T_39c79_level0_row13\" class=\"row_heading level0 row13\" >13</th>\n",
              "      <td id=\"T_39c79_row13_col0\" class=\"data row13 col0\" >Maximum one-hot encoding</td>\n",
              "      <td id=\"T_39c79_row13_col1\" class=\"data row13 col1\" >25</td>\n",
              "    </tr>\n",
              "    <tr>\n",
              "      <th id=\"T_39c79_level0_row14\" class=\"row_heading level0 row14\" >14</th>\n",
              "      <td id=\"T_39c79_row14_col0\" class=\"data row14 col0\" >Encoding method</td>\n",
              "      <td id=\"T_39c79_row14_col1\" class=\"data row14 col1\" >None</td>\n",
              "    </tr>\n",
              "    <tr>\n",
              "      <th id=\"T_39c79_level0_row15\" class=\"row_heading level0 row15\" >15</th>\n",
              "      <td id=\"T_39c79_row15_col0\" class=\"data row15 col0\" >PCA</td>\n",
              "      <td id=\"T_39c79_row15_col1\" class=\"data row15 col1\" >True</td>\n",
              "    </tr>\n",
              "    <tr>\n",
              "      <th id=\"T_39c79_level0_row16\" class=\"row_heading level0 row16\" >16</th>\n",
              "      <td id=\"T_39c79_row16_col0\" class=\"data row16 col0\" >PCA method</td>\n",
              "      <td id=\"T_39c79_row16_col1\" class=\"data row16 col1\" >linear</td>\n",
              "    </tr>\n",
              "    <tr>\n",
              "      <th id=\"T_39c79_level0_row17\" class=\"row_heading level0 row17\" >17</th>\n",
              "      <td id=\"T_39c79_row17_col0\" class=\"data row17 col0\" >PCA components</td>\n",
              "      <td id=\"T_39c79_row17_col1\" class=\"data row17 col1\" >None</td>\n",
              "    </tr>\n",
              "    <tr>\n",
              "      <th id=\"T_39c79_level0_row18\" class=\"row_heading level0 row18\" >18</th>\n",
              "      <td id=\"T_39c79_row18_col0\" class=\"data row18 col0\" >Fold Generator</td>\n",
              "      <td id=\"T_39c79_row18_col1\" class=\"data row18 col1\" >StratifiedKFold</td>\n",
              "    </tr>\n",
              "    <tr>\n",
              "      <th id=\"T_39c79_level0_row19\" class=\"row_heading level0 row19\" >19</th>\n",
              "      <td id=\"T_39c79_row19_col0\" class=\"data row19 col0\" >Fold Number</td>\n",
              "      <td id=\"T_39c79_row19_col1\" class=\"data row19 col1\" >10</td>\n",
              "    </tr>\n",
              "    <tr>\n",
              "      <th id=\"T_39c79_level0_row20\" class=\"row_heading level0 row20\" >20</th>\n",
              "      <td id=\"T_39c79_row20_col0\" class=\"data row20 col0\" >CPU Jobs</td>\n",
              "      <td id=\"T_39c79_row20_col1\" class=\"data row20 col1\" >-1</td>\n",
              "    </tr>\n",
              "    <tr>\n",
              "      <th id=\"T_39c79_level0_row21\" class=\"row_heading level0 row21\" >21</th>\n",
              "      <td id=\"T_39c79_row21_col0\" class=\"data row21 col0\" >Use GPU</td>\n",
              "      <td id=\"T_39c79_row21_col1\" class=\"data row21 col1\" >False</td>\n",
              "    </tr>\n",
              "    <tr>\n",
              "      <th id=\"T_39c79_level0_row22\" class=\"row_heading level0 row22\" >22</th>\n",
              "      <td id=\"T_39c79_row22_col0\" class=\"data row22 col0\" >Log Experiment</td>\n",
              "      <td id=\"T_39c79_row22_col1\" class=\"data row22 col1\" >False</td>\n",
              "    </tr>\n",
              "    <tr>\n",
              "      <th id=\"T_39c79_level0_row23\" class=\"row_heading level0 row23\" >23</th>\n",
              "      <td id=\"T_39c79_row23_col0\" class=\"data row23 col0\" >Experiment Name</td>\n",
              "      <td id=\"T_39c79_row23_col1\" class=\"data row23 col1\" >clf-default-name</td>\n",
              "    </tr>\n",
              "    <tr>\n",
              "      <th id=\"T_39c79_level0_row24\" class=\"row_heading level0 row24\" >24</th>\n",
              "      <td id=\"T_39c79_row24_col0\" class=\"data row24 col0\" >USI</td>\n",
              "      <td id=\"T_39c79_row24_col1\" class=\"data row24 col1\" >6d04</td>\n",
              "    </tr>\n",
              "  </tbody>\n",
              "</table>\n"
            ]
          },
          "metadata": {}
        },
        {
          "output_type": "execute_result",
          "data": {
            "text/plain": [
              "<pycaret.classification.oop.ClassificationExperiment at 0x7b630cde6200>"
            ]
          },
          "metadata": {},
          "execution_count": 40
        }
      ]
    },
    {
      "cell_type": "code",
      "source": [
        "len(df.columns)"
      ],
      "metadata": {
        "colab": {
          "base_uri": "https://localhost:8080/"
        },
        "id": "4BN5E2m0xYUY",
        "outputId": "e5c8f140-8bcf-41a4-b62c-58efe21fa444"
      },
      "execution_count": null,
      "outputs": [
        {
          "output_type": "execute_result",
          "data": {
            "text/plain": [
              "15"
            ]
          },
          "metadata": {},
          "execution_count": 41
        }
      ]
    },
    {
      "cell_type": "code",
      "source": [
        "#Exploratory Data Analysis (EDA)"
      ],
      "metadata": {
        "id": "cz3yGwbkxaMK"
      },
      "execution_count": null,
      "outputs": []
    },
    {
      "cell_type": "code",
      "source": [
        "import pandas as pd\n",
        "\n",
        "# Group the data by traffic type\n",
        "grouped_data = df.groupby('TrafficType')\n",
        "\n",
        "# Calculate average revenue per traffic type\n",
        "average_revenue = grouped_data['Revenue'].mean()\n",
        "\n",
        "# Calculate total revenue per traffic type\n",
        "total_revenue = grouped_data['Revenue'].sum()\n",
        "\n",
        "# Compare revenue across traffic types\n",
        "revenue_comparison = pd.DataFrame({'Average Revenue': average_revenue, 'Total Revenue': total_revenue})\n",
        "\n",
        "# Print the revenue comparison\n",
        "print(revenue_comparison)"
      ],
      "metadata": {
        "colab": {
          "base_uri": "https://localhost:8080/"
        },
        "id": "TJ3g_iqRVhZg",
        "outputId": "dcaab6e8-f05e-499e-8f6b-ef8f0ab8da79"
      },
      "execution_count": null,
      "outputs": [
        {
          "output_type": "stream",
          "name": "stdout",
          "text": [
            "             Average Revenue  Total Revenue\n",
            "TrafficType                                \n",
            "1                       0.11            262\n",
            "2                       0.22            847\n",
            "3                       0.09            180\n",
            "4                       0.16            165\n",
            "5                       0.22             56\n",
            "6                       0.12             53\n",
            "7                       0.30             12\n",
            "8                       0.28             95\n",
            "9                       0.10              4\n",
            "10                      0.20             90\n",
            "11                      0.19             47\n",
            "12                      0.00              0\n",
            "13                      0.06             43\n",
            "14                      0.15              2\n",
            "15                      0.00              0\n",
            "16                      0.33              1\n",
            "17                      0.00              0\n",
            "18                      0.00              0\n",
            "19                      0.06              1\n",
            "20                      0.26             50\n"
          ]
        }
      ]
    },
    {
      "cell_type": "code",
      "source": [
        "revenue_comparison.sort_values(by='Total Revenue', ascending=False, inplace=True)\n",
        "\n",
        "# Visualize the sorted data\n",
        "plt.figure(figsize=(10, 6))\n",
        "sns.barplot(data=revenue_comparison, x=df['TrafficType'], y='Total Revenue')\n",
        "plt.title('Total Revenue by Traffic Type')\n",
        "plt.xlabel('Traffic Type')\n",
        "plt.ylabel('Total Revenue')\n",
        "plt.xticks(rotation=45)\n",
        "plt.show()"
      ],
      "metadata": {
        "colab": {
          "base_uri": "https://localhost:8080/",
          "height": 573
        },
        "id": "Pg8fu7hwVksj",
        "outputId": "0e93d3f9-13ec-463c-a27a-f689781b2c4c"
      },
      "execution_count": null,
      "outputs": [
        {
          "output_type": "display_data",
          "data": {
            "text/plain": [
              "<Figure size 1000x600 with 1 Axes>"
            ],
            "image/png": "[encoded data removed]"
          },
          "metadata": {}
        }
      ]
    },
    {
      "cell_type": "code",
      "source": [
        "#traffic type 2 and traffic type 3 generates maximum revenue"
      ],
      "metadata": {
        "id": "QJ0DK-Dtxhrv"
      },
      "execution_count": null,
      "outputs": []
    },
    {
      "cell_type": "code",
      "source": [
        "# Filter the dataset for Traffic Type 2 visitors\n",
        "traffic_type_2_data = df[df['TrafficType'] == 2]\n",
        "\n",
        "# Filter the dataset for Traffic Type 3 visitors\n",
        "traffic_type_3_data = df[df['TrafficType'] == 3]\n",
        "\n",
        "# Demographic analysis\n",
        "demographic_variables = ['VisitorType']\n",
        "\n",
        "for variable in demographic_variables:\n",
        "    plt.figure(figsize=(8, 6))\n",
        "    sns.countplot(data=traffic_type_2_data, x=variable, palette='viridis')\n",
        "    plt.title(f'{variable} Distribution for Traffic Type 2 Visitors')\n",
        "    plt.xlabel(variable)\n",
        "    plt.ylabel('Count')\n",
        "    plt.show()\n",
        "    plt.figure(figsize=(8, 6))\n",
        "    sns.countplot(data=traffic_type_3_data, x=variable, palette='viridis')\n",
        "    plt.title(f'{variable} Distribution for Traffic Type 3 Visitors')\n",
        "    plt.xlabel(variable)\n",
        "    plt.ylabel('Count')\n",
        "    plt.show()\n",
        "\n",
        "# Behavioral analysis\n",
        "behavioral_variables = ['PageValues', 'BounceRates', 'ExitRates']\n",
        "\n",
        "for variable in behavioral_variables:\n",
        "    plt.figure(figsize=(8, 6))\n",
        "    sns.boxplot(data=traffic_type_2_data, x=variable, palette='viridis')\n",
        "    plt.title(f'{variable} Distribution for Traffic Type 2 Visitors')\n",
        "    plt.xlabel(variable)\n",
        "    plt.show()\n",
        "\n",
        "    plt.figure(figsize=(8, 6))\n",
        "    sns.boxplot(data=traffic_type_3_data, x=variable, palette='viridis')\n",
        "    plt.title(f'{variable} Distribution for Traffic Type 3 Visitors')\n",
        "    plt.xlabel(variable)\n",
        "    plt.show()"
      ],
      "metadata": {
        "colab": {
          "base_uri": "https://localhost:8080/",
          "height": 1000
        },
        "id": "PAf2-GgaVkzm",
        "outputId": "6f62ebbb-fcf7-4a2a-e93a-8f3f37198cb6"
      },
      "execution_count": null,
      "outputs": [
        {
          "output_type": "display_data",
          "data": {
            "text/plain": [
              "<Figure size 800x600 with 1 Axes>"
            ],
            "image/png": "[encoded data removed]"
          },
          "metadata": {}
        },
        {
          "output_type": "display_data",
          "data": {
            "text/plain": [
              "<Figure size 800x600 with 1 Axes>"
            ],
            "image/png": "[encoded data removed]"
          },
          "metadata": {}
        },
        {
          "output_type": "display_data",
          "data": {
            "text/plain": [
              "<Figure size 800x600 with 1 Axes>"
            ],
            "image/png": "[encoded data removed]"
          },
          "metadata": {}
        },
        {
          "output_type": "display_data",
          "data": {
            "text/plain": [
              "<Figure size 800x600 with 1 Axes>"
            ],
            "image/png": "[encoded data removed]"
          },
          "metadata": {}
        },
        {
          "output_type": "display_data",
          "data": {
            "text/plain": [
              "<Figure size 800x600 with 1 Axes>"
            ],
            "image/png": "[encoded data removed]"
          },
          "metadata": {}
        },
        {
          "output_type": "display_data",
          "data": {
            "text/plain": [
              "<Figure size 800x600 with 1 Axes>"
            ],
            "image/png": "[encoded data removed]"
          },
          "metadata": {}
        },
        {
          "output_type": "display_data",
          "data": {
            "text/plain": [
              "<Figure size 800x600 with 1 Axes>"
            ],
            "image/png": "[encoded data removed]"
          },
          "metadata": {}
        },
        {
          "output_type": "display_data",
          "data": {
            "text/plain": [
              "<Figure size 800x600 with 1 Axes>"
            ],
            "image/png": "[encoded data removed]"
          },
          "metadata": {}
        }
      ]
    },
    {
      "cell_type": "code",
      "source": [
        "special_day_analysis = df.groupby('SpecialDay')['Revenue'].mean()  # Replace 'Revenue' with the appropriate metric\n",
        "\n",
        "# Sort the data in descending order based on the average revenue or visitor count\n",
        "special_day_analysis = special_day_analysis.sort_values(ascending=False)\n",
        "\n",
        "# Visualize the impact of special days on customer engagement\n",
        "plt.figure(figsize=(10, 6))\n",
        "sns.barplot(x=special_day_analysis.index, y=special_day_analysis.values)\n",
        "plt.title(\"Impact of Special Days on Customer Engagement\")\n",
        "plt.xlabel(\"Special Day\")\n",
        "plt.ylabel(\"Average Revenue\" )\n",
        "plt.xticks(rotation=45)\n",
        "plt.show()\n",
        "\n",
        "# Identify the special days with the highest impact on customer engagement\n",
        "top_special_days = special_day_analysis.head(3)  # Replace '3' with the desired number of top special days\n",
        "\n",
        "print(\"Special Days with the Highest Impact on Customer Engagement:\")\n",
        "for day, impact in top_special_days.items():\n",
        "    print(f\"- {day}: {impact}\")"
      ],
      "metadata": {
        "colab": {
          "base_uri": "https://localhost:8080/",
          "height": 645
        },
        "id": "ocGmoYqSWKAm",
        "outputId": "b37d4615-91fe-42a9-9aa0-0a6617b010d7"
      },
      "execution_count": null,
      "outputs": [
        {
          "output_type": "display_data",
          "data": {
            "text/plain": [
              "<Figure size 1000x600 with 1 Axes>"
            ],
            "image/png": "[encoded data removed]"
          },
          "metadata": {}
        },
        {
          "output_type": "stream",
          "name": "stdout",
          "text": [
            "Special Days with the Highest Impact on Customer Engagement:\n",
            "- 0.0: 0.16779692082111436\n",
            "- 0.6: 0.0830945558739255\n",
            "- 0.2: 0.07865168539325842\n"
          ]
        }
      ]
    },
    {
      "cell_type": "code",
      "source": [
        "corr=df.corr()\n",
        "sns.set(style='white')\n",
        "plt.figure(figsize=(8, 6))\n",
        "sns.heatmap(corr,vmin=-1, vmax=1, center=0, cmap=sns.diverging_palette(20, 220, n=200), linewidths=0.5)\n",
        "\n",
        "#Positive correlations are represented by lighter colors, negative correlations by darker colors, and no correlation by a neutral color."
      ],
      "metadata": {
        "colab": {
          "base_uri": "https://localhost:8080/",
          "height": 725
        },
        "id": "unE0O3GJWXLQ",
        "outputId": "97887e1a-7240-4163-b1f5-e0d6c987c015"
      },
      "execution_count": null,
      "outputs": [
        {
          "output_type": "execute_result",
          "data": {
            "text/plain": [
              "<Axes: >"
            ]
          },
          "metadata": {},
          "execution_count": 48
        },
        {
          "output_type": "display_data",
          "data": {
            "text/plain": [
              "<Figure size 800x600 with 2 Axes>"
            ],
            "image/png": "[encoded data removed]"
          },
          "metadata": {}
        }
      ]
    },
    {
      "cell_type": "code",
      "source": [
        "# boolean_array = np.array([True, False, True])\n",
        "# numeric_array = boolean_array.astype(int)\n",
        "\n",
        "plt.figure(figsize=(9, 3))\n",
        "plt.hist(df['Revenue'],color='navy')\n",
        "\n",
        "plt.title('Revenue Class Distribution')\n",
        "plt.xlabel('Revenue')\n",
        "plt.ylabel('Count')\n",
        "plt.show()\n",
        "\n",
        "# class imbalance (majority customers fall into  low revenue classes)"
      ],
      "metadata": {
        "colab": {
          "base_uri": "https://localhost:8080/",
          "height": 342
        },
        "id": "ovIvsIFQWaFz",
        "outputId": "094734fd-be9c-4f6b-f75e-031cf9a0cff4"
      },
      "execution_count": null,
      "outputs": [
        {
          "output_type": "display_data",
          "data": {
            "text/plain": [
              "<Figure size 900x300 with 1 Axes>"
            ],
            "image/png": "[encoded data removed]"
          },
          "metadata": {}
        }
      ]
    },
    {
      "cell_type": "code",
      "source": [
        "N=len(df)\n",
        "colors = np.random.rand(N)\n",
        "plt.scatter(df['PageValues'], df['BounceRates'],c=colors)\n",
        "plt.title('Page Values vs. Bounce Rates')\n",
        "plt.xlabel('Page Values')\n",
        "plt.ylabel('Bounce Rates')\n",
        "plt.show()"
      ],
      "metadata": {
        "colab": {
          "base_uri": "https://localhost:8080/",
          "height": 480
        },
        "id": "P7iqC6isWe6O",
        "outputId": "b267b190-9f4b-439e-e031-6f3ce6cc8344"
      },
      "execution_count": null,
      "outputs": [
        {
          "output_type": "display_data",
          "data": {
            "text/plain": [
              "<Figure size 640x480 with 1 Axes>"
            ],
            "image/png": "[encoded data removed]"
          },
          "metadata": {}
        }
      ]
    },
    {
      "cell_type": "code",
      "source": [
        "# negative correlation\n",
        "#  outliers detected are\n",
        "# (10, 120)\n",
        "# (20, 140)\n",
        "# (30, 160)\n",
        "# (40, 180)\n",
        "# (50, 200)  using interquantile range\n",
        "\n"
      ],
      "metadata": {
        "id": "liymaWFHx-KM"
      },
      "execution_count": null,
      "outputs": []
    },
    {
      "cell_type": "code",
      "source": [
        "# Handling class Imbalance"
      ],
      "metadata": {
        "id": "7aqxvUMNyC82"
      },
      "execution_count": null,
      "outputs": []
    },
    {
      "cell_type": "code",
      "source": [
        "df.head()"
      ],
      "metadata": {
        "colab": {
          "base_uri": "https://localhost:8080/",
          "height": 226
        },
        "id": "c8VrXNfoWhN1",
        "outputId": "8cfcf4e7-f505-429b-cd8d-49119fbaf143"
      },
      "execution_count": null,
      "outputs": [
        {
          "output_type": "execute_result",
          "data": {
            "text/plain": [
              "   Administrative_Duration  Informational_Duration  ProductRelated_Duration  \\\n",
              "0                     0.00                    0.00                     0.00   \n",
              "1                     0.00                    0.00                     0.00   \n",
              "2                     0.00                    0.00                     0.00   \n",
              "3                     0.00                    0.00                     0.00   \n",
              "4                     0.00                    0.00                     0.01   \n",
              "\n",
              "   BounceRates  ExitRates  PageValues  SpecialDay  Month  OperatingSystems  \\\n",
              "0         1.00       1.00        0.00        0.00      2                 1   \n",
              "1         0.00       0.50        0.00        0.00      2                 2   \n",
              "2         1.00       1.00        0.00        0.00      2                 4   \n",
              "3         0.25       0.70        0.00        0.00      2                 3   \n",
              "4         0.10       0.25        0.00        0.00      2                 3   \n",
              "\n",
              "   Browser  Region  TrafficType        VisitorType  Weekend  Revenue  \n",
              "0        1       1            1  Returning_Visitor        0        0  \n",
              "1        2       1            2  Returning_Visitor        0        0  \n",
              "2        1       9            3  Returning_Visitor        0        0  \n",
              "3        2       2            4  Returning_Visitor        0        0  \n",
              "4        3       1            4  Returning_Visitor        1        0  "
            ],
            "text/html": [
              "\n",
              "  <div id=\"df-d1eafb17-3ae3-4496-a382-f244900ef04d\" class=\"colab-df-container\">\n",
              "    <div>\n",
              "<style scoped>\n",
              "    .dataframe tbody tr th:only-of-type {\n",
              "        vertical-align: middle;\n",
              "    }\n",
              "\n",
              "    .dataframe tbody tr th {\n",
              "        vertical-align: top;\n",
              "    }\n",
              "\n",
              "    .dataframe thead th {\n",
              "        text-align: right;\n",
              "    }\n",
              "</style>\n",
              "<table border=\"1\" class=\"dataframe\">\n",
              "  <thead>\n",
              "    <tr style=\"text-align: right;\">\n",
              "      <th></th>\n",
              "      <th>Administrative_Duration</th>\n",
              "      <th>Informational_Duration</th>\n",
              "      <th>ProductRelated_Duration</th>\n",
              "      <th>BounceRates</th>\n",
              "      <th>ExitRates</th>\n",
              "      <th>PageValues</th>\n",
              "      <th>SpecialDay</th>\n",
              "      <th>Month</th>\n",
              "      <th>OperatingSystems</th>\n",
              "      <th>Browser</th>\n",
              "      <th>Region</th>\n",
              "      <th>TrafficType</th>\n",
              "      <th>VisitorType</th>\n",
              "      <th>Weekend</th>\n",
              "      <th>Revenue</th>\n",
              "    </tr>\n",
              "  </thead>\n",
              "  <tbody>\n",
              "    <tr>\n",
              "      <th>0</th>\n",
              "      <td>0.00</td>\n",
              "      <td>0.00</td>\n",
              "      <td>0.00</td>\n",
              "      <td>1.00</td>\n",
              "      <td>1.00</td>\n",
              "      <td>0.00</td>\n",
              "      <td>0.00</td>\n",
              "      <td>2</td>\n",
              "      <td>1</td>\n",
              "      <td>1</td>\n",
              "      <td>1</td>\n",
              "      <td>1</td>\n",
              "      <td>Returning_Visitor</td>\n",
              "      <td>0</td>\n",
              "      <td>0</td>\n",
              "    </tr>\n",
              "    <tr>\n",
              "      <th>1</th>\n",
              "      <td>0.00</td>\n",
              "      <td>0.00</td>\n",
              "      <td>0.00</td>\n",
              "      <td>0.00</td>\n",
              "      <td>0.50</td>\n",
              "      <td>0.00</td>\n",
              "      <td>0.00</td>\n",
              "      <td>2</td>\n",
              "      <td>2</td>\n",
              "      <td>2</td>\n",
              "      <td>1</td>\n",
              "      <td>2</td>\n",
              "      <td>Returning_Visitor</td>\n",
              "      <td>0</td>\n",
              "      <td>0</td>\n",
              "    </tr>\n",
              "    <tr>\n",
              "      <th>2</th>\n",
              "      <td>0.00</td>\n",
              "      <td>0.00</td>\n",
              "      <td>0.00</td>\n",
              "      <td>1.00</td>\n",
              "      <td>1.00</td>\n",
              "      <td>0.00</td>\n",
              "      <td>0.00</td>\n",
              "      <td>2</td>\n",
              "      <td>4</td>\n",
              "      <td>1</td>\n",
              "      <td>9</td>\n",
              "      <td>3</td>\n",
              "      <td>Returning_Visitor</td>\n",
              "      <td>0</td>\n",
              "      <td>0</td>\n",
              "    </tr>\n",
              "    <tr>\n",
              "      <th>3</th>\n",
              "      <td>0.00</td>\n",
              "      <td>0.00</td>\n",
              "      <td>0.00</td>\n",
              "      <td>0.25</td>\n",
              "      <td>0.70</td>\n",
              "      <td>0.00</td>\n",
              "      <td>0.00</td>\n",
              "      <td>2</td>\n",
              "      <td>3</td>\n",
              "      <td>2</td>\n",
              "      <td>2</td>\n",
              "      <td>4</td>\n",
              "      <td>Returning_Visitor</td>\n",
              "      <td>0</td>\n",
              "      <td>0</td>\n",
              "    </tr>\n",
              "    <tr>\n",
              "      <th>4</th>\n",
              "      <td>0.00</td>\n",
              "      <td>0.00</td>\n",
              "      <td>0.01</td>\n",
              "      <td>0.10</td>\n",
              "      <td>0.25</td>\n",
              "      <td>0.00</td>\n",
              "      <td>0.00</td>\n",
              "      <td>2</td>\n",
              "      <td>3</td>\n",
              "      <td>3</td>\n",
              "      <td>1</td>\n",
              "      <td>4</td>\n",
              "      <td>Returning_Visitor</td>\n",
              "      <td>1</td>\n",
              "      <td>0</td>\n",
              "    </tr>\n",
              "  </tbody>\n",
              "</table>\n",
              "</div>\n",
              "    <div class=\"colab-df-buttons\">\n",
              "\n",
              "  <div class=\"colab-df-container\">\n",
              "    <button class=\"colab-df-convert\" onclick=\"convertToInteractive('df-d1eafb17-3ae3-4496-a382-f244900ef04d')\"\n",
              "            title=\"Convert this dataframe to an interactive table.\"\n",
              "            style=\"display:none;\">\n",
              "\n",
              "  <svg xmlns=\"http://www.w3.org/2000/svg\" height=\"24px\" viewBox=\"0 -960 960 960\">\n",
              "    <path d=\"M120-120v-720h720v720H120Zm60-500h600v-160H180v160Zm220 220h160v-160H400v160Zm0 220h160v-160H400v160ZM180-400h160v-160H180v160Zm440 0h160v-160H620v160ZM180-180h160v-160H180v160Zm440 0h160v-160H620v160Z\"/>\n",
              "  </svg>\n",
              "    </button>\n",
              "\n",
              "  <style>\n",
              "    .colab-df-container {\n",
              "      display:flex;\n",
              "      gap: 12px;\n",
              "    }\n",
              "\n",
              "    .colab-df-convert {\n",
              "      background-color: #E8F0FE;\n",
              "      border: none;\n",
              "      border-radius: 50%;\n",
              "      cursor: pointer;\n",
              "      display: none;\n",
              "      fill: #1967D2;\n",
              "      height: 32px;\n",
              "      padding: 0 0 0 0;\n",
              "      width: 32px;\n",
              "    }\n",
              "\n",
              "    .colab-df-convert:hover {\n",
              "      background-color: #E2EBFA;\n",
              "      box-shadow: 0px 1px 2px rgba(60, 64, 67, 0.3), 0px 1px 3px 1px rgba(60, 64, 67, 0.15);\n",
              "      fill: #174EA6;\n",
              "    }\n",
              "\n",
              "    .colab-df-buttons div {\n",
              "      margin-bottom: 4px;\n",
              "    }\n",
              "\n",
              "    [theme=dark] .colab-df-convert {\n",
              "      background-color: #3B4455;\n",
              "      fill: #D2E3FC;\n",
              "    }\n",
              "\n",
              "    [theme=dark] .colab-df-convert:hover {\n",
              "      background-color: #434B5C;\n",
              "      box-shadow: 0px 1px 3px 1px rgba(0, 0, 0, 0.15);\n",
              "      filter: drop-shadow(0px 1px 2px rgba(0, 0, 0, 0.3));\n",
              "      fill: #FFFFFF;\n",
              "    }\n",
              "  </style>\n",
              "\n",
              "    <script>\n",
              "      const buttonEl =\n",
              "        document.querySelector('#df-d1eafb17-3ae3-4496-a382-f244900ef04d button.colab-df-convert');\n",
              "      buttonEl.style.display =\n",
              "        google.colab.kernel.accessAllowed ? 'block' : 'none';\n",
              "\n",
              "      async function convertToInteractive(key) {\n",
              "        const element = document.querySelector('#df-d1eafb17-3ae3-4496-a382-f244900ef04d');\n",
              "        const dataTable =\n",
              "          await google.colab.kernel.invokeFunction('convertToInteractive',\n",
              "                                                    [key], {});\n",
              "        if (!dataTable) return;\n",
              "\n",
              "        const docLinkHtml = 'Like what you see? Visit the ' +\n",
              "          '<a target=\"_blank\" href=https://colab.research.google.com/notebooks/data_table.ipynb>data table notebook</a>'\n",
              "          + ' to learn more about interactive tables.';\n",
              "        element.innerHTML = '';\n",
              "        dataTable['output_type'] = 'display_data';\n",
              "        await google.colab.output.renderOutput(dataTable, element);\n",
              "        const docLink = document.createElement('div');\n",
              "        docLink.innerHTML = docLinkHtml;\n",
              "        element.appendChild(docLink);\n",
              "      }\n",
              "    </script>\n",
              "  </div>\n",
              "\n",
              "\n",
              "<div id=\"df-51ca07f0-0535-41ea-bb09-e57714372fab\">\n",
              "  <button class=\"colab-df-quickchart\" onclick=\"quickchart('df-51ca07f0-0535-41ea-bb09-e57714372fab')\"\n",
              "            title=\"Suggest charts\"\n",
              "            style=\"display:none;\">\n",
              "\n",
              "<svg xmlns=\"http://www.w3.org/2000/svg\" height=\"24px\"viewBox=\"0 0 24 24\"\n",
              "     width=\"24px\">\n",
              "    <g>\n",
              "        <path d=\"M19 3H5c-1.1 0-2 .9-2 2v14c0 1.1.9 2 2 2h14c1.1 0 2-.9 2-2V5c0-1.1-.9-2-2-2zM9 17H7v-7h2v7zm4 0h-2V7h2v10zm4 0h-2v-4h2v4z\"/>\n",
              "    </g>\n",
              "</svg>\n",
              "  </button>\n",
              "\n",
              "<style>\n",
              "  .colab-df-quickchart {\n",
              "      --bg-color: #E8F0FE;\n",
              "      --fill-color: #1967D2;\n",
              "      --hover-bg-color: #E2EBFA;\n",
              "      --hover-fill-color: #174EA6;\n",
              "      --disabled-fill-color: #AAA;\n",
              "      --disabled-bg-color: #DDD;\n",
              "  }\n",
              "\n",
              "  [theme=dark] .colab-df-quickchart {\n",
              "      --bg-color: #3B4455;\n",
              "      --fill-color: #D2E3FC;\n",
              "      --hover-bg-color: #434B5C;\n",
              "      --hover-fill-color: #FFFFFF;\n",
              "      --disabled-bg-color: #3B4455;\n",
              "      --disabled-fill-color: #666;\n",
              "  }\n",
              "\n",
              "  .colab-df-quickchart {\n",
              "    background-color: var(--bg-color);\n",
              "    border: none;\n",
              "    border-radius: 50%;\n",
              "    cursor: pointer;\n",
              "    display: none;\n",
              "    fill: var(--fill-color);\n",
              "    height: 32px;\n",
              "    padding: 0;\n",
              "    width: 32px;\n",
              "  }\n",
              "\n",
              "  .colab-df-quickchart:hover {\n",
              "    background-color: var(--hover-bg-color);\n",
              "    box-shadow: 0 1px 2px rgba(60, 64, 67, 0.3), 0 1px 3px 1px rgba(60, 64, 67, 0.15);\n",
              "    fill: var(--button-hover-fill-color);\n",
              "  }\n",
              "\n",
              "  .colab-df-quickchart-complete:disabled,\n",
              "  .colab-df-quickchart-complete:disabled:hover {\n",
              "    background-color: var(--disabled-bg-color);\n",
              "    fill: var(--disabled-fill-color);\n",
              "    box-shadow: none;\n",
              "  }\n",
              "\n",
              "  .colab-df-spinner {\n",
              "    border: 2px solid var(--fill-color);\n",
              "    border-color: transparent;\n",
              "    border-bottom-color: var(--fill-color);\n",
              "    animation:\n",
              "      spin 1s steps(1) infinite;\n",
              "  }\n",
              "\n",
              "  @keyframes spin {\n",
              "    0% {\n",
              "      border-color: transparent;\n",
              "      border-bottom-color: var(--fill-color);\n",
              "      border-left-color: var(--fill-color);\n",
              "    }\n",
              "    20% {\n",
              "      border-color: transparent;\n",
              "      border-left-color: var(--fill-color);\n",
              "      border-top-color: var(--fill-color);\n",
              "    }\n",
              "    30% {\n",
              "      border-color: transparent;\n",
              "      border-left-color: var(--fill-color);\n",
              "      border-top-color: var(--fill-color);\n",
              "      border-right-color: var(--fill-color);\n",
              "    }\n",
              "    40% {\n",
              "      border-color: transparent;\n",
              "      border-right-color: var(--fill-color);\n",
              "      border-top-color: var(--fill-color);\n",
              "    }\n",
              "    60% {\n",
              "      border-color: transparent;\n",
              "      border-right-color: var(--fill-color);\n",
              "    }\n",
              "    80% {\n",
              "      border-color: transparent;\n",
              "      border-right-color: var(--fill-color);\n",
              "      border-bottom-color: var(--fill-color);\n",
              "    }\n",
              "    90% {\n",
              "      border-color: transparent;\n",
              "      border-bottom-color: var(--fill-color);\n",
              "    }\n",
              "  }\n",
              "</style>\n",
              "\n",
              "  <script>\n",
              "    async function quickchart(key) {\n",
              "      const quickchartButtonEl =\n",
              "        document.querySelector('#' + key + ' button');\n",
              "      quickchartButtonEl.disabled = true;  // To prevent multiple clicks.\n",
              "      quickchartButtonEl.classList.add('colab-df-spinner');\n",
              "      try {\n",
              "        const charts = await google.colab.kernel.invokeFunction(\n",
              "            'suggestCharts', [key], {});\n",
              "      } catch (error) {\n",
              "        console.error('Error during call to suggestCharts:', error);\n",
              "      }\n",
              "      quickchartButtonEl.classList.remove('colab-df-spinner');\n",
              "      quickchartButtonEl.classList.add('colab-df-quickchart-complete');\n",
              "    }\n",
              "    (() => {\n",
              "      let quickchartButtonEl =\n",
              "        document.querySelector('#df-51ca07f0-0535-41ea-bb09-e57714372fab button');\n",
              "      quickchartButtonEl.style.display =\n",
              "        google.colab.kernel.accessAllowed ? 'block' : 'none';\n",
              "    })();\n",
              "  </script>\n",
              "</div>\n",
              "    </div>\n",
              "  </div>\n"
            ]
          },
          "metadata": {},
          "execution_count": 53
        }
      ]
    },
    {
      "cell_type": "code",
      "source": [
        "df['Revenue'].value_counts()\n",
        "\n",
        "#tells unique value"
      ],
      "metadata": {
        "colab": {
          "base_uri": "https://localhost:8080/"
        },
        "id": "suQE2ZtIWj7b",
        "outputId": "e0016003-a05c-4230-cb1d-cd3c89a0382f"
      },
      "execution_count": null,
      "outputs": [
        {
          "output_type": "execute_result",
          "data": {
            "text/plain": [
              "0    10249\n",
              "1     1908\n",
              "Name: Revenue, dtype: int64"
            ]
          },
          "metadata": {},
          "execution_count": 54
        }
      ]
    },
    {
      "cell_type": "code",
      "source": [
        "X=df.drop('Revenue',axis=1)\n",
        "y=df['Revenue']\n",
        "\n",
        "# x : all features except the target\"revenue\" (independent)\n",
        "# y : target"
      ],
      "metadata": {
        "id": "iKiFpXEPWngN"
      },
      "execution_count": null,
      "outputs": []
    },
    {
      "cell_type": "code",
      "source": [
        "from sklearn.model_selection import train_test_split\n",
        "X_train,X_test,y_train,y_test=train_test_split(X,y,test_size=0.2,random_state=42,stratify=y)"
      ],
      "metadata": {
        "id": "Dn14evlcWnkp"
      },
      "execution_count": null,
      "outputs": []
    },
    {
      "cell_type": "code",
      "source": [
        "y_train.value_counts()\n",
        "\n",
        "# Number of instances where y_train is 0 (no purchase)\n",
        "# Number of instances where y_train is 1 (purchase)"
      ],
      "metadata": {
        "colab": {
          "base_uri": "https://localhost:8080/"
        },
        "id": "aEKo0SdmWnoA",
        "outputId": "981ef10f-49c3-4f01-ce16-d6fc538d04c6"
      },
      "execution_count": null,
      "outputs": [
        {
          "output_type": "execute_result",
          "data": {
            "text/plain": [
              "0    8199\n",
              "1    1526\n",
              "Name: Revenue, dtype: int64"
            ]
          },
          "metadata": {},
          "execution_count": 57
        }
      ]
    },
    {
      "cell_type": "code",
      "source": [
        "y.value_counts()"
      ],
      "metadata": {
        "colab": {
          "base_uri": "https://localhost:8080/"
        },
        "id": "vOm2-slyWnqq",
        "outputId": "5511e2d4-e8cb-4ce4-a1ae-24cdbe28dfb6"
      },
      "execution_count": null,
      "outputs": [
        {
          "output_type": "execute_result",
          "data": {
            "text/plain": [
              "0    10249\n",
              "1     1908\n",
              "Name: Revenue, dtype: int64"
            ]
          },
          "metadata": {},
          "execution_count": 58
        }
      ]
    },
    {
      "cell_type": "code",
      "source": [
        "y_test.value_counts()"
      ],
      "metadata": {
        "colab": {
          "base_uri": "https://localhost:8080/"
        },
        "id": "TzaPp2VTWnsV",
        "outputId": "4ac47b33-fa04-4762-ebde-b5c3aba99649"
      },
      "execution_count": null,
      "outputs": [
        {
          "output_type": "execute_result",
          "data": {
            "text/plain": [
              "0    2050\n",
              "1     382\n",
              "Name: Revenue, dtype: int64"
            ]
          },
          "metadata": {},
          "execution_count": 59
        }
      ]
    },
    {
      "cell_type": "code",
      "source": [
        "X_train.shape\n"
      ],
      "metadata": {
        "colab": {
          "base_uri": "https://localhost:8080/"
        },
        "id": "QKaZUFYhWnul",
        "outputId": "3e5a294e-11f6-47fa-a53c-4b44f0099604"
      },
      "execution_count": null,
      "outputs": [
        {
          "output_type": "execute_result",
          "data": {
            "text/plain": [
              "(9725, 14)"
            ]
          },
          "metadata": {},
          "execution_count": 60
        }
      ]
    },
    {
      "cell_type": "code",
      "source": [
        "X_test.shape"
      ],
      "metadata": {
        "colab": {
          "base_uri": "https://localhost:8080/"
        },
        "id": "cp-BQih5WnxI",
        "outputId": "9fb6bb82-c9ee-4fd9-ba09-470f65ede49c"
      },
      "execution_count": null,
      "outputs": [
        {
          "output_type": "execute_result",
          "data": {
            "text/plain": [
              "(2432, 14)"
            ]
          },
          "metadata": {},
          "execution_count": 61
        }
      ]
    },
    {
      "cell_type": "code",
      "source": [
        "X_train[:10]"
      ],
      "metadata": {
        "colab": {
          "base_uri": "https://localhost:8080/",
          "height": 383
        },
        "id": "fQAPW35ZWnz0",
        "outputId": "fde4b633-6884-44ae-84ce-2f0b02ffb558"
      },
      "execution_count": null,
      "outputs": [
        {
          "output_type": "execute_result",
          "data": {
            "text/plain": [
              "       Administrative_Duration  Informational_Duration  \\\n",
              "2811                      0.00                    0.00   \n",
              "4466                      0.01                    0.00   \n",
              "10593                     0.03                    0.00   \n",
              "12153                     0.00                    0.00   \n",
              "8359                      0.00                    0.00   \n",
              "8743                      0.04                    0.12   \n",
              "11400                     0.00                    0.10   \n",
              "8840                      0.02                    0.00   \n",
              "10633                     0.00                    0.00   \n",
              "8426                      0.00                    0.00   \n",
              "\n",
              "       ProductRelated_Duration  BounceRates  ExitRates  PageValues  \\\n",
              "2811                      0.01         0.08       0.23        0.00   \n",
              "4466                      0.05         0.03       0.11        0.02   \n",
              "10593                     0.01         0.00       0.06        0.05   \n",
              "12153                     0.00         0.14       0.21        0.00   \n",
              "8359                      0.02         0.13       0.22        0.00   \n",
              "8743                      0.03         0.04       0.14        0.00   \n",
              "11400                     0.16         0.03       0.12        0.00   \n",
              "8840                      0.03         0.02       0.13        0.00   \n",
              "10633                     0.00         0.33       0.67        0.00   \n",
              "8426                      0.01         0.00       0.50        0.00   \n",
              "\n",
              "       SpecialDay  Month  OperatingSystems  Browser  Region  TrafficType  \\\n",
              "2811         0.40      5                 2        5       3            3   \n",
              "4466         0.40      5                 2        5       2            3   \n",
              "10593        0.00     11                 2        2       1           10   \n",
              "12153        0.00     12                 3        2       1           20   \n",
              "8359         0.00     12                 2        5       3            1   \n",
              "8743         0.00     11                 1        1       1            2   \n",
              "11400        0.00     12                 2        2       1            2   \n",
              "8840         0.00     11                 1        1       2            8   \n",
              "10633        0.00     11                 1        1       9            3   \n",
              "8426         0.00     11                 2        2       4            1   \n",
              "\n",
              "             VisitorType  Weekend  \n",
              "2811   Returning_Visitor        0  \n",
              "4466   Returning_Visitor        0  \n",
              "10593  Returning_Visitor        0  \n",
              "12153        New_Visitor        0  \n",
              "8359   Returning_Visitor        1  \n",
              "8743   Returning_Visitor        1  \n",
              "11400  Returning_Visitor        0  \n",
              "8840   Returning_Visitor        0  \n",
              "10633  Returning_Visitor        0  \n",
              "8426   Returning_Visitor        0  "
            ],
            "text/html": [
              "\n",
              "  <div id=\"df-e367f29b-2c22-4cd1-9d39-3cc773fb6f82\" class=\"colab-df-container\">\n",
              "    <div>\n",
              "<style scoped>\n",
              "    .dataframe tbody tr th:only-of-type {\n",
              "        vertical-align: middle;\n",
              "    }\n",
              "\n",
              "    .dataframe tbody tr th {\n",
              "        vertical-align: top;\n",
              "    }\n",
              "\n",
              "    .dataframe thead th {\n",
              "        text-align: right;\n",
              "    }\n",
              "</style>\n",
              "<table border=\"1\" class=\"dataframe\">\n",
              "  <thead>\n",
              "    <tr style=\"text-align: right;\">\n",
              "      <th></th>\n",
              "      <th>Administrative_Duration</th>\n",
              "      <th>Informational_Duration</th>\n",
              "      <th>ProductRelated_Duration</th>\n",
              "      <th>BounceRates</th>\n",
              "      <th>ExitRates</th>\n",
              "      <th>PageValues</th>\n",
              "      <th>SpecialDay</th>\n",
              "      <th>Month</th>\n",
              "      <th>OperatingSystems</th>\n",
              "      <th>Browser</th>\n",
              "      <th>Region</th>\n",
              "      <th>TrafficType</th>\n",
              "      <th>VisitorType</th>\n",
              "      <th>Weekend</th>\n",
              "    </tr>\n",
              "  </thead>\n",
              "  <tbody>\n",
              "    <tr>\n",
              "      <th>2811</th>\n",
              "      <td>0.00</td>\n",
              "      <td>0.00</td>\n",
              "      <td>0.01</td>\n",
              "      <td>0.08</td>\n",
              "      <td>0.23</td>\n",
              "      <td>0.00</td>\n",
              "      <td>0.40</td>\n",
              "      <td>5</td>\n",
              "      <td>2</td>\n",
              "      <td>5</td>\n",
              "      <td>3</td>\n",
              "      <td>3</td>\n",
              "      <td>Returning_Visitor</td>\n",
              "      <td>0</td>\n",
              "    </tr>\n",
              "    <tr>\n",
              "      <th>4466</th>\n",
              "      <td>0.01</td>\n",
              "      <td>0.00</td>\n",
              "      <td>0.05</td>\n",
              "      <td>0.03</td>\n",
              "      <td>0.11</td>\n",
              "      <td>0.02</td>\n",
              "      <td>0.40</td>\n",
              "      <td>5</td>\n",
              "      <td>2</td>\n",
              "      <td>5</td>\n",
              "      <td>2</td>\n",
              "      <td>3</td>\n",
              "      <td>Returning_Visitor</td>\n",
              "      <td>0</td>\n",
              "    </tr>\n",
              "    <tr>\n",
              "      <th>10593</th>\n",
              "      <td>0.03</td>\n",
              "      <td>0.00</td>\n",
              "      <td>0.01</td>\n",
              "      <td>0.00</td>\n",
              "      <td>0.06</td>\n",
              "      <td>0.05</td>\n",
              "      <td>0.00</td>\n",
              "      <td>11</td>\n",
              "      <td>2</td>\n",
              "      <td>2</td>\n",
              "      <td>1</td>\n",
              "      <td>10</td>\n",
              "      <td>Returning_Visitor</td>\n",
              "      <td>0</td>\n",
              "    </tr>\n",
              "    <tr>\n",
              "      <th>12153</th>\n",
              "      <td>0.00</td>\n",
              "      <td>0.00</td>\n",
              "      <td>0.00</td>\n",
              "      <td>0.14</td>\n",
              "      <td>0.21</td>\n",
              "      <td>0.00</td>\n",
              "      <td>0.00</td>\n",
              "      <td>12</td>\n",
              "      <td>3</td>\n",
              "      <td>2</td>\n",
              "      <td>1</td>\n",
              "      <td>20</td>\n",
              "      <td>New_Visitor</td>\n",
              "      <td>0</td>\n",
              "    </tr>\n",
              "    <tr>\n",
              "      <th>8359</th>\n",
              "      <td>0.00</td>\n",
              "      <td>0.00</td>\n",
              "      <td>0.02</td>\n",
              "      <td>0.13</td>\n",
              "      <td>0.22</td>\n",
              "      <td>0.00</td>\n",
              "      <td>0.00</td>\n",
              "      <td>12</td>\n",
              "      <td>2</td>\n",
              "      <td>5</td>\n",
              "      <td>3</td>\n",
              "      <td>1</td>\n",
              "      <td>Returning_Visitor</td>\n",
              "      <td>1</td>\n",
              "    </tr>\n",
              "    <tr>\n",
              "      <th>8743</th>\n",
              "      <td>0.04</td>\n",
              "      <td>0.12</td>\n",
              "      <td>0.03</td>\n",
              "      <td>0.04</td>\n",
              "      <td>0.14</td>\n",
              "      <td>0.00</td>\n",
              "      <td>0.00</td>\n",
              "      <td>11</td>\n",
              "      <td>1</td>\n",
              "      <td>1</td>\n",
              "      <td>1</td>\n",
              "      <td>2</td>\n",
              "      <td>Returning_Visitor</td>\n",
              "      <td>1</td>\n",
              "    </tr>\n",
              "    <tr>\n",
              "      <th>11400</th>\n",
              "      <td>0.00</td>\n",
              "      <td>0.10</td>\n",
              "      <td>0.16</td>\n",
              "      <td>0.03</td>\n",
              "      <td>0.12</td>\n",
              "      <td>0.00</td>\n",
              "      <td>0.00</td>\n",
              "      <td>12</td>\n",
              "      <td>2</td>\n",
              "      <td>2</td>\n",
              "      <td>1</td>\n",
              "      <td>2</td>\n",
              "      <td>Returning_Visitor</td>\n",
              "      <td>0</td>\n",
              "    </tr>\n",
              "    <tr>\n",
              "      <th>8840</th>\n",
              "      <td>0.02</td>\n",
              "      <td>0.00</td>\n",
              "      <td>0.03</td>\n",
              "      <td>0.02</td>\n",
              "      <td>0.13</td>\n",
              "      <td>0.00</td>\n",
              "      <td>0.00</td>\n",
              "      <td>11</td>\n",
              "      <td>1</td>\n",
              "      <td>1</td>\n",
              "      <td>2</td>\n",
              "      <td>8</td>\n",
              "      <td>Returning_Visitor</td>\n",
              "      <td>0</td>\n",
              "    </tr>\n",
              "    <tr>\n",
              "      <th>10633</th>\n",
              "      <td>0.00</td>\n",
              "      <td>0.00</td>\n",
              "      <td>0.00</td>\n",
              "      <td>0.33</td>\n",
              "      <td>0.67</td>\n",
              "      <td>0.00</td>\n",
              "      <td>0.00</td>\n",
              "      <td>11</td>\n",
              "      <td>1</td>\n",
              "      <td>1</td>\n",
              "      <td>9</td>\n",
              "      <td>3</td>\n",
              "      <td>Returning_Visitor</td>\n",
              "      <td>0</td>\n",
              "    </tr>\n",
              "    <tr>\n",
              "      <th>8426</th>\n",
              "      <td>0.00</td>\n",
              "      <td>0.00</td>\n",
              "      <td>0.01</td>\n",
              "      <td>0.00</td>\n",
              "      <td>0.50</td>\n",
              "      <td>0.00</td>\n",
              "      <td>0.00</td>\n",
              "      <td>11</td>\n",
              "      <td>2</td>\n",
              "      <td>2</td>\n",
              "      <td>4</td>\n",
              "      <td>1</td>\n",
              "      <td>Returning_Visitor</td>\n",
              "      <td>0</td>\n",
              "    </tr>\n",
              "  </tbody>\n",
              "</table>\n",
              "</div>\n",
              "    <div class=\"colab-df-buttons\">\n",
              "\n",
              "  <div class=\"colab-df-container\">\n",
              "    <button class=\"colab-df-convert\" onclick=\"convertToInteractive('df-e367f29b-2c22-4cd1-9d39-3cc773fb6f82')\"\n",
              "            title=\"Convert this dataframe to an interactive table.\"\n",
              "            style=\"display:none;\">\n",
              "\n",
              "  <svg xmlns=\"http://www.w3.org/2000/svg\" height=\"24px\" viewBox=\"0 -960 960 960\">\n",
              "    <path d=\"M120-120v-720h720v720H120Zm60-500h600v-160H180v160Zm220 220h160v-160H400v160Zm0 220h160v-160H400v160ZM180-400h160v-160H180v160Zm440 0h160v-160H620v160ZM180-180h160v-160H180v160Zm440 0h160v-160H620v160Z\"/>\n",
              "  </svg>\n",
              "    </button>\n",
              "\n",
              "  <style>\n",
              "    .colab-df-container {\n",
              "      display:flex;\n",
              "      gap: 12px;\n",
              "    }\n",
              "\n",
              "    .colab-df-convert {\n",
              "      background-color: #E8F0FE;\n",
              "      border: none;\n",
              "      border-radius: 50%;\n",
              "      cursor: pointer;\n",
              "      display: none;\n",
              "      fill: #1967D2;\n",
              "      height: 32px;\n",
              "      padding: 0 0 0 0;\n",
              "      width: 32px;\n",
              "    }\n",
              "\n",
              "    .colab-df-convert:hover {\n",
              "      background-color: #E2EBFA;\n",
              "      box-shadow: 0px 1px 2px rgba(60, 64, 67, 0.3), 0px 1px 3px 1px rgba(60, 64, 67, 0.15);\n",
              "      fill: #174EA6;\n",
              "    }\n",
              "\n",
              "    .colab-df-buttons div {\n",
              "      margin-bottom: 4px;\n",
              "    }\n",
              "\n",
              "    [theme=dark] .colab-df-convert {\n",
              "      background-color: #3B4455;\n",
              "      fill: #D2E3FC;\n",
              "    }\n",
              "\n",
              "    [theme=dark] .colab-df-convert:hover {\n",
              "      background-color: #434B5C;\n",
              "      box-shadow: 0px 1px 3px 1px rgba(0, 0, 0, 0.15);\n",
              "      filter: drop-shadow(0px 1px 2px rgba(0, 0, 0, 0.3));\n",
              "      fill: #FFFFFF;\n",
              "    }\n",
              "  </style>\n",
              "\n",
              "    <script>\n",
              "      const buttonEl =\n",
              "        document.querySelector('#df-e367f29b-2c22-4cd1-9d39-3cc773fb6f82 button.colab-df-convert');\n",
              "      buttonEl.style.display =\n",
              "        google.colab.kernel.accessAllowed ? 'block' : 'none';\n",
              "\n",
              "      async function convertToInteractive(key) {\n",
              "        const element = document.querySelector('#df-e367f29b-2c22-4cd1-9d39-3cc773fb6f82');\n",
              "        const dataTable =\n",
              "          await google.colab.kernel.invokeFunction('convertToInteractive',\n",
              "                                                    [key], {});\n",
              "        if (!dataTable) return;\n",
              "\n",
              "        const docLinkHtml = 'Like what you see? Visit the ' +\n",
              "          '<a target=\"_blank\" href=https://colab.research.google.com/notebooks/data_table.ipynb>data table notebook</a>'\n",
              "          + ' to learn more about interactive tables.';\n",
              "        element.innerHTML = '';\n",
              "        dataTable['output_type'] = 'display_data';\n",
              "        await google.colab.output.renderOutput(dataTable, element);\n",
              "        const docLink = document.createElement('div');\n",
              "        docLink.innerHTML = docLinkHtml;\n",
              "        element.appendChild(docLink);\n",
              "      }\n",
              "    </script>\n",
              "  </div>\n",
              "\n",
              "\n",
              "<div id=\"df-e4acec4e-56c6-4a1f-84d5-164200146e85\">\n",
              "  <button class=\"colab-df-quickchart\" onclick=\"quickchart('df-e4acec4e-56c6-4a1f-84d5-164200146e85')\"\n",
              "            title=\"Suggest charts\"\n",
              "            style=\"display:none;\">\n",
              "\n",
              "<svg xmlns=\"http://www.w3.org/2000/svg\" height=\"24px\"viewBox=\"0 0 24 24\"\n",
              "     width=\"24px\">\n",
              "    <g>\n",
              "        <path d=\"M19 3H5c-1.1 0-2 .9-2 2v14c0 1.1.9 2 2 2h14c1.1 0 2-.9 2-2V5c0-1.1-.9-2-2-2zM9 17H7v-7h2v7zm4 0h-2V7h2v10zm4 0h-2v-4h2v4z\"/>\n",
              "    </g>\n",
              "</svg>\n",
              "  </button>\n",
              "\n",
              "<style>\n",
              "  .colab-df-quickchart {\n",
              "      --bg-color: #E8F0FE;\n",
              "      --fill-color: #1967D2;\n",
              "      --hover-bg-color: #E2EBFA;\n",
              "      --hover-fill-color: #174EA6;\n",
              "      --disabled-fill-color: #AAA;\n",
              "      --disabled-bg-color: #DDD;\n",
              "  }\n",
              "\n",
              "  [theme=dark] .colab-df-quickchart {\n",
              "      --bg-color: #3B4455;\n",
              "      --fill-color: #D2E3FC;\n",
              "      --hover-bg-color: #434B5C;\n",
              "      --hover-fill-color: #FFFFFF;\n",
              "      --disabled-bg-color: #3B4455;\n",
              "      --disabled-fill-color: #666;\n",
              "  }\n",
              "\n",
              "  .colab-df-quickchart {\n",
              "    background-color: var(--bg-color);\n",
              "    border: none;\n",
              "    border-radius: 50%;\n",
              "    cursor: pointer;\n",
              "    display: none;\n",
              "    fill: var(--fill-color);\n",
              "    height: 32px;\n",
              "    padding: 0;\n",
              "    width: 32px;\n",
              "  }\n",
              "\n",
              "  .colab-df-quickchart:hover {\n",
              "    background-color: var(--hover-bg-color);\n",
              "    box-shadow: 0 1px 2px rgba(60, 64, 67, 0.3), 0 1px 3px 1px rgba(60, 64, 67, 0.15);\n",
              "    fill: var(--button-hover-fill-color);\n",
              "  }\n",
              "\n",
              "  .colab-df-quickchart-complete:disabled,\n",
              "  .colab-df-quickchart-complete:disabled:hover {\n",
              "    background-color: var(--disabled-bg-color);\n",
              "    fill: var(--disabled-fill-color);\n",
              "    box-shadow: none;\n",
              "  }\n",
              "\n",
              "  .colab-df-spinner {\n",
              "    border: 2px solid var(--fill-color);\n",
              "    border-color: transparent;\n",
              "    border-bottom-color: var(--fill-color);\n",
              "    animation:\n",
              "      spin 1s steps(1) infinite;\n",
              "  }\n",
              "\n",
              "  @keyframes spin {\n",
              "    0% {\n",
              "      border-color: transparent;\n",
              "      border-bottom-color: var(--fill-color);\n",
              "      border-left-color: var(--fill-color);\n",
              "    }\n",
              "    20% {\n",
              "      border-color: transparent;\n",
              "      border-left-color: var(--fill-color);\n",
              "      border-top-color: var(--fill-color);\n",
              "    }\n",
              "    30% {\n",
              "      border-color: transparent;\n",
              "      border-left-color: var(--fill-color);\n",
              "      border-top-color: var(--fill-color);\n",
              "      border-right-color: var(--fill-color);\n",
              "    }\n",
              "    40% {\n",
              "      border-color: transparent;\n",
              "      border-right-color: var(--fill-color);\n",
              "      border-top-color: var(--fill-color);\n",
              "    }\n",
              "    60% {\n",
              "      border-color: transparent;\n",
              "      border-right-color: var(--fill-color);\n",
              "    }\n",
              "    80% {\n",
              "      border-color: transparent;\n",
              "      border-right-color: var(--fill-color);\n",
              "      border-bottom-color: var(--fill-color);\n",
              "    }\n",
              "    90% {\n",
              "      border-color: transparent;\n",
              "      border-bottom-color: var(--fill-color);\n",
              "    }\n",
              "  }\n",
              "</style>\n",
              "\n",
              "  <script>\n",
              "    async function quickchart(key) {\n",
              "      const quickchartButtonEl =\n",
              "        document.querySelector('#' + key + ' button');\n",
              "      quickchartButtonEl.disabled = true;  // To prevent multiple clicks.\n",
              "      quickchartButtonEl.classList.add('colab-df-spinner');\n",
              "      try {\n",
              "        const charts = await google.colab.kernel.invokeFunction(\n",
              "            'suggestCharts', [key], {});\n",
              "      } catch (error) {\n",
              "        console.error('Error during call to suggestCharts:', error);\n",
              "      }\n",
              "      quickchartButtonEl.classList.remove('colab-df-spinner');\n",
              "      quickchartButtonEl.classList.add('colab-df-quickchart-complete');\n",
              "    }\n",
              "    (() => {\n",
              "      let quickchartButtonEl =\n",
              "        document.querySelector('#df-e4acec4e-56c6-4a1f-84d5-164200146e85 button');\n",
              "      quickchartButtonEl.style.display =\n",
              "        google.colab.kernel.accessAllowed ? 'block' : 'none';\n",
              "    })();\n",
              "  </script>\n",
              "</div>\n",
              "    </div>\n",
              "  </div>\n"
            ]
          },
          "metadata": {},
          "execution_count": 62
        }
      ]
    },
    {
      "cell_type": "code",
      "source": [
        "# Synthetic Minority Over-sampling Technique (SMOTE)\n",
        "from imblearn.over_sampling import SMOTE\n",
        "\n",
        "# Perform one-hot encoding on the categorical features\n",
        "X_encoded = pd.get_dummies(X)\n",
        "\n",
        "# Apply SMOTE on the encoded features and target variable\n",
        "smote = SMOTE(sampling_strategy='minority')\n",
        "X_sm, y_sm = smote.fit_resample(X_encoded, y)\n",
        "\n",
        "# Convert the resampled target variable to a pandas Series\n",
        "y_sm = pd.Series(y_sm)"
      ],
      "metadata": {
        "id": "oHq5OvQvWn3S"
      },
      "execution_count": null,
      "outputs": []
    },
    {
      "cell_type": "code",
      "source": [
        "X_train, X_test, y_train, y_test = train_test_split(X_sm, y_sm, test_size=0.2, random_state=15, stratify=y_sm)"
      ],
      "metadata": {
        "id": "1hqEOpqSba67"
      },
      "execution_count": null,
      "outputs": []
    },
    {
      "cell_type": "code",
      "source": [
        "y_train.value_counts()"
      ],
      "metadata": {
        "colab": {
          "base_uri": "https://localhost:8080/"
        },
        "id": "E9TsjwYfbbCD",
        "outputId": "ea4c13a9-7be6-4413-88d1-0d93f8e3d416"
      },
      "execution_count": null,
      "outputs": [
        {
          "output_type": "execute_result",
          "data": {
            "text/plain": [
              "0    8199\n",
              "1    8199\n",
              "Name: Revenue, dtype: int64"
            ]
          },
          "metadata": {},
          "execution_count": 65
        }
      ]
    },
    {
      "cell_type": "code",
      "source": [
        "# Comparing Machine learning Models"
      ],
      "metadata": {
        "id": "jdciC7AZyYQU"
      },
      "execution_count": null,
      "outputs": []
    },
    {
      "cell_type": "code",
      "source": [
        "!pip install lazypredict\n",
        "from lazypredict.Supervised import LazyClassifier"
      ],
      "metadata": {
        "colab": {
          "base_uri": "https://localhost:8080/"
        },
        "id": "RbrRnmmfbj1f",
        "outputId": "e3c00bfe-b809-4484-fb57-ad57e5089c14"
      },
      "execution_count": null,
      "outputs": [
        {
          "output_type": "stream",
          "name": "stdout",
          "text": [
            "Requirement already satisfied: lazypredict in /usr/local/lib/python3.10/dist-packages (0.2.12)\n",
            "Requirement already satisfied: click in /usr/local/lib/python3.10/dist-packages (from lazypredict) (8.1.7)\n",
            "Requirement already satisfied: scikit-learn in /usr/local/lib/python3.10/dist-packages (from lazypredict) (1.2.2)\n",
            "Requirement already satisfied: pandas in /usr/local/lib/python3.10/dist-packages (from lazypredict) (1.5.3)\n",
            "Requirement already satisfied: tqdm in /usr/local/lib/python3.10/dist-packages (from lazypredict) (4.66.1)\n",
            "Requirement already satisfied: joblib in /usr/local/lib/python3.10/dist-packages (from lazypredict) (1.3.2)\n",
            "Requirement already satisfied: lightgbm in /usr/local/lib/python3.10/dist-packages (from lazypredict) (4.1.0)\n",
            "Requirement already satisfied: xgboost in /usr/local/lib/python3.10/dist-packages (from lazypredict) (2.0.2)\n",
            "Requirement already satisfied: numpy in /usr/local/lib/python3.10/dist-packages (from lightgbm->lazypredict) (1.23.5)\n",
            "Requirement already satisfied: scipy in /usr/local/lib/python3.10/dist-packages (from lightgbm->lazypredict) (1.10.1)\n",
            "Requirement already satisfied: python-dateutil>=2.8.1 in /usr/local/lib/python3.10/dist-packages (from pandas->lazypredict) (2.8.2)\n",
            "Requirement already satisfied: pytz>=2020.1 in /usr/local/lib/python3.10/dist-packages (from pandas->lazypredict) (2023.3.post1)\n",
            "Requirement already satisfied: threadpoolctl>=2.0.0 in /usr/local/lib/python3.10/dist-packages (from scikit-learn->lazypredict) (3.2.0)\n",
            "Requirement already satisfied: six>=1.5 in /usr/local/lib/python3.10/dist-packages (from python-dateutil>=2.8.1->pandas->lazypredict) (1.16.0)\n"
          ]
        }
      ]
    },
    {
      "cell_type": "code",
      "source": [
        "clf = LazyClassifier(verbose=0, ignore_warnings=True, custom_metric=None)"
      ],
      "metadata": {
        "id": "r-lhW-osbj7V"
      },
      "execution_count": null,
      "outputs": []
    },
    {
      "cell_type": "code",
      "source": [
        "models,predictions = clf.fit(X_train, X_test, y_train, y_test)\n",
        "print(models)"
      ],
      "metadata": {
        "colab": {
          "base_uri": "https://localhost:8080/"
        },
        "id": "BKzYSg4Vbj-7",
        "outputId": "a26d7198-633d-429f-a11b-7dd41a65b2b5"
      },
      "execution_count": null,
      "outputs": [
        {
          "output_type": "stream",
          "name": "stderr",
          "text": [
            " 97%|█████████▋| 28/29 [02:03<00:02,  2.47s/it]"
          ]
        },
        {
          "output_type": "stream",
          "name": "stdout",
          "text": [
            "[LightGBM] [Info] Number of positive: 8199, number of negative: 8199\n",
            "[LightGBM] [Info] Auto-choosing row-wise multi-threading, the overhead of testing was 0.002193 seconds.\n",
            "You can set `force_row_wise=true` to remove the overhead.\n",
            "And if memory is not enough, you can set `force_col_wise=true`.\n",
            "[LightGBM] [Info] Total Bins 1862\n",
            "[LightGBM] [Info] Number of data points in the train set: 16398, number of used features: 16\n",
            "[LightGBM] [Info] [binary:BoostFromScore]: pavg=0.500000 -> initscore=0.000000\n"
          ]
        },
        {
          "output_type": "stream",
          "name": "stderr",
          "text": [
            "100%|██████████| 29/29 [02:04<00:00,  4.28s/it]"
          ]
        },
        {
          "output_type": "stream",
          "name": "stdout",
          "text": [
            "                               Accuracy  Balanced Accuracy  ROC AUC  F1 Score  \\\n",
            "Model                                                                           \n",
            "ExtraTreesClassifier               0.94               0.94     0.94      0.94   \n",
            "RandomForestClassifier             0.93               0.93     0.93      0.93   \n",
            "XGBClassifier                      0.92               0.92     0.92      0.92   \n",
            "BaggingClassifier                  0.92               0.92     0.92      0.92   \n",
            "LGBMClassifier                     0.92               0.92     0.92      0.92   \n",
            "LabelSpreading                     0.90               0.90     0.90      0.90   \n",
            "LabelPropagation                   0.90               0.90     0.90      0.90   \n",
            "AdaBoostClassifier                 0.90               0.90     0.90      0.90   \n",
            "ExtraTreeClassifier                0.89               0.89     0.89      0.89   \n",
            "DecisionTreeClassifier             0.88               0.88     0.88      0.88   \n",
            "SVC                                0.88               0.88     0.88      0.88   \n",
            "KNeighborsClassifier               0.87               0.87     0.87      0.87   \n",
            "SGDClassifier                      0.86               0.86     0.86      0.86   \n",
            "LogisticRegression                 0.86               0.86     0.86      0.86   \n",
            "NuSVC                              0.86               0.86     0.86      0.86   \n",
            "CalibratedClassifierCV             0.85               0.85     0.85      0.85   \n",
            "LinearSVC                          0.84               0.84     0.84      0.84   \n",
            "RidgeClassifierCV                  0.81               0.81     0.81      0.81   \n",
            "LinearDiscriminantAnalysis         0.81               0.81     0.81      0.81   \n",
            "RidgeClassifier                    0.81               0.81     0.81      0.81   \n",
            "BernoulliNB                        0.77               0.77     0.77      0.77   \n",
            "NearestCentroid                    0.76               0.76     0.76      0.76   \n",
            "Perceptron                         0.75               0.75     0.75      0.75   \n",
            "GaussianNB                         0.70               0.70     0.70      0.68   \n",
            "PassiveAggressiveClassifier        0.67               0.67     0.67      0.67   \n",
            "QuadraticDiscriminantAnalysis      0.55               0.55     0.55      0.44   \n",
            "DummyClassifier                    0.50               0.50     0.50      0.33   \n",
            "\n",
            "                               Time Taken  \n",
            "Model                                      \n",
            "ExtraTreesClassifier                 4.11  \n",
            "RandomForestClassifier               3.04  \n",
            "XGBClassifier                        0.40  \n",
            "BaggingClassifier                    0.99  \n",
            "LGBMClassifier                       0.40  \n",
            "LabelSpreading                      36.97  \n",
            "LabelPropagation                    24.43  \n",
            "AdaBoostClassifier                   1.64  \n",
            "ExtraTreeClassifier                  0.24  \n",
            "DecisionTreeClassifier               0.53  \n",
            "SVC                                 10.78  \n",
            "KNeighborsClassifier                 1.87  \n",
            "SGDClassifier                        0.17  \n",
            "LogisticRegression                   0.09  \n",
            "NuSVC                               17.85  \n",
            "CalibratedClassifierCV              16.19  \n",
            "LinearSVC                            3.31  \n",
            "RidgeClassifierCV                    0.08  \n",
            "LinearDiscriminantAnalysis           0.22  \n",
            "RidgeClassifier                      0.05  \n",
            "BernoulliNB                          0.05  \n",
            "NearestCentroid                      0.04  \n",
            "Perceptron                           0.07  \n",
            "GaussianNB                           0.18  \n",
            "PassiveAggressiveClassifier          0.06  \n",
            "QuadraticDiscriminantAnalysis        0.06  \n",
            "DummyClassifier                      0.11  \n"
          ]
        },
        {
          "output_type": "stream",
          "name": "stderr",
          "text": [
            "\n"
          ]
        }
      ]
    },
    {
      "cell_type": "code",
      "source": [
        "# PYCARET cm=compare_models()\n",
        "from pycaret.classification import *\n",
        "setup( data = df, target='Revenue' )\n",
        "cm = compare_models()"
      ],
      "metadata": {
        "colab": {
          "base_uri": "https://localhost:8080/",
          "height": 1000,
          "referenced_widgets": [
            "bca2c3b534c24f72aaf79a110532a97f",
            "2328ca365e354e789d507347f9205acb",
            "081f4354f2464d7ca442e00670203f30",
            "9697e612eabb4ac4894ab454be01d99d",
            "bc85ceae8a1b4c67947531ac80b66a30",
            "70c52e17bb6944a09fb77bf66c9dc4a3",
            "44cde78ffb5e44f2bee2562b586b7f4a",
            "20063ae410024363a3e06fab459656ff",
            "6be1f864b5e44faaa22ea6178cdad7a7",
            "cf4fb80ee3e646beb2fc33acf64f7804",
            "ad456ce323954c9e9def62ce7c50e28d"
          ]
        },
        "id": "ecsBo8rxylaU",
        "outputId": "56b23a09-929d-47a3-a839-c8ebf2afb155"
      },
      "execution_count": null,
      "outputs": [
        {
          "output_type": "display_data",
          "data": {
            "text/plain": [
              "<pandas.io.formats.style.Styler at 0x7b62d927ee30>"
            ],
            "text/html": [
              "<style type=\"text/css\">\n",
              "#T_fad84_row9_col1 {\n",
              "  background-color: lightgreen;\n",
              "}\n",
              "</style>\n",
              "<table id=\"T_fad84\" class=\"dataframe\">\n",
              "  <thead>\n",
              "    <tr>\n",
              "      <th class=\"blank level0\" >&nbsp;</th>\n",
              "      <th id=\"T_fad84_level0_col0\" class=\"col_heading level0 col0\" >Description</th>\n",
              "      <th id=\"T_fad84_level0_col1\" class=\"col_heading level0 col1\" >Value</th>\n",
              "    </tr>\n",
              "  </thead>\n",
              "  <tbody>\n",
              "    <tr>\n",
              "      <th id=\"T_fad84_level0_row0\" class=\"row_heading level0 row0\" >0</th>\n",
              "      <td id=\"T_fad84_row0_col0\" class=\"data row0 col0\" >Session id</td>\n",
              "      <td id=\"T_fad84_row0_col1\" class=\"data row0 col1\" >7187</td>\n",
              "    </tr>\n",
              "    <tr>\n",
              "      <th id=\"T_fad84_level0_row1\" class=\"row_heading level0 row1\" >1</th>\n",
              "      <td id=\"T_fad84_row1_col0\" class=\"data row1 col0\" >Target</td>\n",
              "      <td id=\"T_fad84_row1_col1\" class=\"data row1 col1\" >Revenue</td>\n",
              "    </tr>\n",
              "    <tr>\n",
              "      <th id=\"T_fad84_level0_row2\" class=\"row_heading level0 row2\" >2</th>\n",
              "      <td id=\"T_fad84_row2_col0\" class=\"data row2 col0\" >Target type</td>\n",
              "      <td id=\"T_fad84_row2_col1\" class=\"data row2 col1\" >Binary</td>\n",
              "    </tr>\n",
              "    <tr>\n",
              "      <th id=\"T_fad84_level0_row3\" class=\"row_heading level0 row3\" >3</th>\n",
              "      <td id=\"T_fad84_row3_col0\" class=\"data row3 col0\" >Original data shape</td>\n",
              "      <td id=\"T_fad84_row3_col1\" class=\"data row3 col1\" >(12157, 15)</td>\n",
              "    </tr>\n",
              "    <tr>\n",
              "      <th id=\"T_fad84_level0_row4\" class=\"row_heading level0 row4\" >4</th>\n",
              "      <td id=\"T_fad84_row4_col0\" class=\"data row4 col0\" >Transformed data shape</td>\n",
              "      <td id=\"T_fad84_row4_col1\" class=\"data row4 col1\" >(12157, 17)</td>\n",
              "    </tr>\n",
              "    <tr>\n",
              "      <th id=\"T_fad84_level0_row5\" class=\"row_heading level0 row5\" >5</th>\n",
              "      <td id=\"T_fad84_row5_col0\" class=\"data row5 col0\" >Transformed train set shape</td>\n",
              "      <td id=\"T_fad84_row5_col1\" class=\"data row5 col1\" >(8509, 17)</td>\n",
              "    </tr>\n",
              "    <tr>\n",
              "      <th id=\"T_fad84_level0_row6\" class=\"row_heading level0 row6\" >6</th>\n",
              "      <td id=\"T_fad84_row6_col0\" class=\"data row6 col0\" >Transformed test set shape</td>\n",
              "      <td id=\"T_fad84_row6_col1\" class=\"data row6 col1\" >(3648, 17)</td>\n",
              "    </tr>\n",
              "    <tr>\n",
              "      <th id=\"T_fad84_level0_row7\" class=\"row_heading level0 row7\" >7</th>\n",
              "      <td id=\"T_fad84_row7_col0\" class=\"data row7 col0\" >Numeric features</td>\n",
              "      <td id=\"T_fad84_row7_col1\" class=\"data row7 col1\" >13</td>\n",
              "    </tr>\n",
              "    <tr>\n",
              "      <th id=\"T_fad84_level0_row8\" class=\"row_heading level0 row8\" >8</th>\n",
              "      <td id=\"T_fad84_row8_col0\" class=\"data row8 col0\" >Categorical features</td>\n",
              "      <td id=\"T_fad84_row8_col1\" class=\"data row8 col1\" >1</td>\n",
              "    </tr>\n",
              "    <tr>\n",
              "      <th id=\"T_fad84_level0_row9\" class=\"row_heading level0 row9\" >9</th>\n",
              "      <td id=\"T_fad84_row9_col0\" class=\"data row9 col0\" >Preprocess</td>\n",
              "      <td id=\"T_fad84_row9_col1\" class=\"data row9 col1\" >True</td>\n",
              "    </tr>\n",
              "    <tr>\n",
              "      <th id=\"T_fad84_level0_row10\" class=\"row_heading level0 row10\" >10</th>\n",
              "      <td id=\"T_fad84_row10_col0\" class=\"data row10 col0\" >Imputation type</td>\n",
              "      <td id=\"T_fad84_row10_col1\" class=\"data row10 col1\" >simple</td>\n",
              "    </tr>\n",
              "    <tr>\n",
              "      <th id=\"T_fad84_level0_row11\" class=\"row_heading level0 row11\" >11</th>\n",
              "      <td id=\"T_fad84_row11_col0\" class=\"data row11 col0\" >Numeric imputation</td>\n",
              "      <td id=\"T_fad84_row11_col1\" class=\"data row11 col1\" >mean</td>\n",
              "    </tr>\n",
              "    <tr>\n",
              "      <th id=\"T_fad84_level0_row12\" class=\"row_heading level0 row12\" >12</th>\n",
              "      <td id=\"T_fad84_row12_col0\" class=\"data row12 col0\" >Categorical imputation</td>\n",
              "      <td id=\"T_fad84_row12_col1\" class=\"data row12 col1\" >mode</td>\n",
              "    </tr>\n",
              "    <tr>\n",
              "      <th id=\"T_fad84_level0_row13\" class=\"row_heading level0 row13\" >13</th>\n",
              "      <td id=\"T_fad84_row13_col0\" class=\"data row13 col0\" >Maximum one-hot encoding</td>\n",
              "      <td id=\"T_fad84_row13_col1\" class=\"data row13 col1\" >25</td>\n",
              "    </tr>\n",
              "    <tr>\n",
              "      <th id=\"T_fad84_level0_row14\" class=\"row_heading level0 row14\" >14</th>\n",
              "      <td id=\"T_fad84_row14_col0\" class=\"data row14 col0\" >Encoding method</td>\n",
              "      <td id=\"T_fad84_row14_col1\" class=\"data row14 col1\" >None</td>\n",
              "    </tr>\n",
              "    <tr>\n",
              "      <th id=\"T_fad84_level0_row15\" class=\"row_heading level0 row15\" >15</th>\n",
              "      <td id=\"T_fad84_row15_col0\" class=\"data row15 col0\" >Fold Generator</td>\n",
              "      <td id=\"T_fad84_row15_col1\" class=\"data row15 col1\" >StratifiedKFold</td>\n",
              "    </tr>\n",
              "    <tr>\n",
              "      <th id=\"T_fad84_level0_row16\" class=\"row_heading level0 row16\" >16</th>\n",
              "      <td id=\"T_fad84_row16_col0\" class=\"data row16 col0\" >Fold Number</td>\n",
              "      <td id=\"T_fad84_row16_col1\" class=\"data row16 col1\" >10</td>\n",
              "    </tr>\n",
              "    <tr>\n",
              "      <th id=\"T_fad84_level0_row17\" class=\"row_heading level0 row17\" >17</th>\n",
              "      <td id=\"T_fad84_row17_col0\" class=\"data row17 col0\" >CPU Jobs</td>\n",
              "      <td id=\"T_fad84_row17_col1\" class=\"data row17 col1\" >-1</td>\n",
              "    </tr>\n",
              "    <tr>\n",
              "      <th id=\"T_fad84_level0_row18\" class=\"row_heading level0 row18\" >18</th>\n",
              "      <td id=\"T_fad84_row18_col0\" class=\"data row18 col0\" >Use GPU</td>\n",
              "      <td id=\"T_fad84_row18_col1\" class=\"data row18 col1\" >False</td>\n",
              "    </tr>\n",
              "    <tr>\n",
              "      <th id=\"T_fad84_level0_row19\" class=\"row_heading level0 row19\" >19</th>\n",
              "      <td id=\"T_fad84_row19_col0\" class=\"data row19 col0\" >Log Experiment</td>\n",
              "      <td id=\"T_fad84_row19_col1\" class=\"data row19 col1\" >False</td>\n",
              "    </tr>\n",
              "    <tr>\n",
              "      <th id=\"T_fad84_level0_row20\" class=\"row_heading level0 row20\" >20</th>\n",
              "      <td id=\"T_fad84_row20_col0\" class=\"data row20 col0\" >Experiment Name</td>\n",
              "      <td id=\"T_fad84_row20_col1\" class=\"data row20 col1\" >clf-default-name</td>\n",
              "    </tr>\n",
              "    <tr>\n",
              "      <th id=\"T_fad84_level0_row21\" class=\"row_heading level0 row21\" >21</th>\n",
              "      <td id=\"T_fad84_row21_col0\" class=\"data row21 col0\" >USI</td>\n",
              "      <td id=\"T_fad84_row21_col1\" class=\"data row21 col1\" >443d</td>\n",
              "    </tr>\n",
              "  </tbody>\n",
              "</table>\n"
            ]
          },
          "metadata": {}
        },
        {
          "output_type": "display_data",
          "data": {
            "text/plain": [
              "<IPython.core.display.HTML object>"
            ],
            "text/html": []
          },
          "metadata": {}
        },
        {
          "output_type": "display_data",
          "data": {
            "text/plain": [
              "<pandas.io.formats.style.Styler at 0x7b62d9d1e3b0>"
            ],
            "text/html": [
              "<style type=\"text/css\">\n",
              "#T_f8f69 th {\n",
              "  text-align: left;\n",
              "}\n",
              "#T_f8f69_row0_col0, #T_f8f69_row0_col3, #T_f8f69_row0_col4, #T_f8f69_row1_col0, #T_f8f69_row1_col1, #T_f8f69_row1_col2, #T_f8f69_row1_col3, #T_f8f69_row1_col4, #T_f8f69_row1_col5, #T_f8f69_row1_col6, #T_f8f69_row1_col7, #T_f8f69_row2_col0, #T_f8f69_row2_col1, #T_f8f69_row2_col2, #T_f8f69_row2_col3, #T_f8f69_row2_col4, #T_f8f69_row2_col5, #T_f8f69_row2_col6, #T_f8f69_row2_col7, #T_f8f69_row3_col0, #T_f8f69_row3_col1, #T_f8f69_row3_col2, #T_f8f69_row3_col3, #T_f8f69_row3_col4, #T_f8f69_row3_col5, #T_f8f69_row3_col6, #T_f8f69_row3_col7, #T_f8f69_row4_col0, #T_f8f69_row4_col1, #T_f8f69_row4_col2, #T_f8f69_row4_col3, #T_f8f69_row4_col4, #T_f8f69_row4_col5, #T_f8f69_row4_col6, #T_f8f69_row4_col7, #T_f8f69_row5_col0, #T_f8f69_row5_col1, #T_f8f69_row5_col2, #T_f8f69_row5_col3, #T_f8f69_row5_col4, #T_f8f69_row5_col5, #T_f8f69_row5_col6, #T_f8f69_row5_col7, #T_f8f69_row6_col0, #T_f8f69_row6_col1, #T_f8f69_row6_col2, #T_f8f69_row6_col3, #T_f8f69_row6_col4, #T_f8f69_row6_col5, #T_f8f69_row6_col6, #T_f8f69_row6_col7, #T_f8f69_row7_col0, #T_f8f69_row7_col1, #T_f8f69_row7_col2, #T_f8f69_row7_col3, #T_f8f69_row7_col4, #T_f8f69_row7_col5, #T_f8f69_row7_col6, #T_f8f69_row7_col7, #T_f8f69_row8_col0, #T_f8f69_row8_col1, #T_f8f69_row8_col2, #T_f8f69_row8_col3, #T_f8f69_row8_col5, #T_f8f69_row8_col6, #T_f8f69_row8_col7, #T_f8f69_row9_col0, #T_f8f69_row9_col1, #T_f8f69_row9_col2, #T_f8f69_row9_col3, #T_f8f69_row9_col4, #T_f8f69_row9_col5, #T_f8f69_row9_col6, #T_f8f69_row9_col7, #T_f8f69_row10_col0, #T_f8f69_row10_col1, #T_f8f69_row10_col2, #T_f8f69_row10_col3, #T_f8f69_row10_col4, #T_f8f69_row10_col5, #T_f8f69_row10_col6, #T_f8f69_row10_col7, #T_f8f69_row11_col0, #T_f8f69_row11_col1, #T_f8f69_row11_col2, #T_f8f69_row11_col3, #T_f8f69_row11_col4, #T_f8f69_row11_col5, #T_f8f69_row11_col6, #T_f8f69_row11_col7, #T_f8f69_row12_col0, #T_f8f69_row12_col1, #T_f8f69_row12_col2, #T_f8f69_row12_col3, #T_f8f69_row12_col4, #T_f8f69_row12_col5, #T_f8f69_row12_col6, #T_f8f69_row12_col7, #T_f8f69_row13_col0, #T_f8f69_row13_col1, #T_f8f69_row13_col2, #T_f8f69_row13_col3, #T_f8f69_row13_col4, #T_f8f69_row13_col5, #T_f8f69_row13_col6, #T_f8f69_row13_col7, #T_f8f69_row14_col0, #T_f8f69_row14_col1, #T_f8f69_row14_col2, #T_f8f69_row14_col4, #T_f8f69_row14_col5, #T_f8f69_row14_col6, #T_f8f69_row14_col7 {\n",
              "  text-align: left;\n",
              "}\n",
              "#T_f8f69_row0_col1, #T_f8f69_row0_col2, #T_f8f69_row0_col5, #T_f8f69_row0_col6, #T_f8f69_row0_col7, #T_f8f69_row8_col4, #T_f8f69_row14_col3 {\n",
              "  text-align: left;\n",
              "  background-color: yellow;\n",
              "}\n",
              "#T_f8f69_row0_col8, #T_f8f69_row1_col8, #T_f8f69_row2_col8, #T_f8f69_row3_col8, #T_f8f69_row4_col8, #T_f8f69_row5_col8, #T_f8f69_row6_col8, #T_f8f69_row7_col8, #T_f8f69_row8_col8, #T_f8f69_row9_col8, #T_f8f69_row11_col8, #T_f8f69_row12_col8, #T_f8f69_row13_col8, #T_f8f69_row14_col8 {\n",
              "  text-align: left;\n",
              "  background-color: lightgrey;\n",
              "}\n",
              "#T_f8f69_row10_col8 {\n",
              "  text-align: left;\n",
              "  background-color: yellow;\n",
              "  background-color: lightgrey;\n",
              "}\n",
              "</style>\n",
              "<table id=\"T_f8f69\" class=\"dataframe\">\n",
              "  <thead>\n",
              "    <tr>\n",
              "      <th class=\"blank level0\" >&nbsp;</th>\n",
              "      <th id=\"T_f8f69_level0_col0\" class=\"col_heading level0 col0\" >Model</th>\n",
              "      <th id=\"T_f8f69_level0_col1\" class=\"col_heading level0 col1\" >Accuracy</th>\n",
              "      <th id=\"T_f8f69_level0_col2\" class=\"col_heading level0 col2\" >AUC</th>\n",
              "      <th id=\"T_f8f69_level0_col3\" class=\"col_heading level0 col3\" >Recall</th>\n",
              "      <th id=\"T_f8f69_level0_col4\" class=\"col_heading level0 col4\" >Prec.</th>\n",
              "      <th id=\"T_f8f69_level0_col5\" class=\"col_heading level0 col5\" >F1</th>\n",
              "      <th id=\"T_f8f69_level0_col6\" class=\"col_heading level0 col6\" >Kappa</th>\n",
              "      <th id=\"T_f8f69_level0_col7\" class=\"col_heading level0 col7\" >MCC</th>\n",
              "      <th id=\"T_f8f69_level0_col8\" class=\"col_heading level0 col8\" >TT (Sec)</th>\n",
              "    </tr>\n",
              "  </thead>\n",
              "  <tbody>\n",
              "    <tr>\n",
              "      <th id=\"T_f8f69_level0_row0\" class=\"row_heading level0 row0\" >gbc</th>\n",
              "      <td id=\"T_f8f69_row0_col0\" class=\"data row0 col0\" >Gradient Boosting Classifier</td>\n",
              "      <td id=\"T_f8f69_row0_col1\" class=\"data row0 col1\" >0.9028</td>\n",
              "      <td id=\"T_f8f69_row0_col2\" class=\"data row0 col2\" >0.9299</td>\n",
              "      <td id=\"T_f8f69_row0_col3\" class=\"data row0 col3\" >0.6149</td>\n",
              "      <td id=\"T_f8f69_row0_col4\" class=\"data row0 col4\" >0.7262</td>\n",
              "      <td id=\"T_f8f69_row0_col5\" class=\"data row0 col5\" >0.6648</td>\n",
              "      <td id=\"T_f8f69_row0_col6\" class=\"data row0 col6\" >0.6085</td>\n",
              "      <td id=\"T_f8f69_row0_col7\" class=\"data row0 col7\" >0.6121</td>\n",
              "      <td id=\"T_f8f69_row0_col8\" class=\"data row0 col8\" >1.3840</td>\n",
              "    </tr>\n",
              "    <tr>\n",
              "      <th id=\"T_f8f69_level0_row1\" class=\"row_heading level0 row1\" >lightgbm</th>\n",
              "      <td id=\"T_f8f69_row1_col0\" class=\"data row1 col0\" >Light Gradient Boosting Machine</td>\n",
              "      <td id=\"T_f8f69_row1_col1\" class=\"data row1 col1\" >0.9015</td>\n",
              "      <td id=\"T_f8f69_row1_col2\" class=\"data row1 col2\" >0.9268</td>\n",
              "      <td id=\"T_f8f69_row1_col3\" class=\"data row1 col3\" >0.6104</td>\n",
              "      <td id=\"T_f8f69_row1_col4\" class=\"data row1 col4\" >0.7212</td>\n",
              "      <td id=\"T_f8f69_row1_col5\" class=\"data row1 col5\" >0.6602</td>\n",
              "      <td id=\"T_f8f69_row1_col6\" class=\"data row1 col6\" >0.6031</td>\n",
              "      <td id=\"T_f8f69_row1_col7\" class=\"data row1 col7\" >0.6066</td>\n",
              "      <td id=\"T_f8f69_row1_col8\" class=\"data row1 col8\" >1.0790</td>\n",
              "    </tr>\n",
              "    <tr>\n",
              "      <th id=\"T_f8f69_level0_row2\" class=\"row_heading level0 row2\" >rf</th>\n",
              "      <td id=\"T_f8f69_row2_col0\" class=\"data row2 col0\" >Random Forest Classifier</td>\n",
              "      <td id=\"T_f8f69_row2_col1\" class=\"data row2 col1\" >0.9009</td>\n",
              "      <td id=\"T_f8f69_row2_col2\" class=\"data row2 col2\" >0.9231</td>\n",
              "      <td id=\"T_f8f69_row2_col3\" class=\"data row2 col3\" >0.5767</td>\n",
              "      <td id=\"T_f8f69_row2_col4\" class=\"data row2 col4\" >0.7353</td>\n",
              "      <td id=\"T_f8f69_row2_col5\" class=\"data row2 col5\" >0.6457</td>\n",
              "      <td id=\"T_f8f69_row2_col6\" class=\"data row2 col6\" >0.5892</td>\n",
              "      <td id=\"T_f8f69_row2_col7\" class=\"data row2 col7\" >0.5955</td>\n",
              "      <td id=\"T_f8f69_row2_col8\" class=\"data row2 col8\" >1.7860</td>\n",
              "    </tr>\n",
              "    <tr>\n",
              "      <th id=\"T_f8f69_level0_row3\" class=\"row_heading level0 row3\" >et</th>\n",
              "      <td id=\"T_f8f69_row3_col0\" class=\"data row3 col0\" >Extra Trees Classifier</td>\n",
              "      <td id=\"T_f8f69_row3_col1\" class=\"data row3 col1\" >0.8979</td>\n",
              "      <td id=\"T_f8f69_row3_col2\" class=\"data row3 col2\" >0.9173</td>\n",
              "      <td id=\"T_f8f69_row3_col3\" class=\"data row3 col3\" >0.5168</td>\n",
              "      <td id=\"T_f8f69_row3_col4\" class=\"data row3 col4\" >0.7570</td>\n",
              "      <td id=\"T_f8f69_row3_col5\" class=\"data row3 col5\" >0.6131</td>\n",
              "      <td id=\"T_f8f69_row3_col6\" class=\"data row3 col6\" >0.5568</td>\n",
              "      <td id=\"T_f8f69_row3_col7\" class=\"data row3 col7\" >0.5708</td>\n",
              "      <td id=\"T_f8f69_row3_col8\" class=\"data row3 col8\" >0.9660</td>\n",
              "    </tr>\n",
              "    <tr>\n",
              "      <th id=\"T_f8f69_level0_row4\" class=\"row_heading level0 row4\" >xgboost</th>\n",
              "      <td id=\"T_f8f69_row4_col0\" class=\"data row4 col0\" >Extreme Gradient Boosting</td>\n",
              "      <td id=\"T_f8f69_row4_col1\" class=\"data row4 col1\" >0.8934</td>\n",
              "      <td id=\"T_f8f69_row4_col2\" class=\"data row4 col2\" >0.9185</td>\n",
              "      <td id=\"T_f8f69_row4_col3\" class=\"data row4 col3\" >0.5828</td>\n",
              "      <td id=\"T_f8f69_row4_col4\" class=\"data row4 col4\" >0.6907</td>\n",
              "      <td id=\"T_f8f69_row4_col5\" class=\"data row4 col5\" >0.6312</td>\n",
              "      <td id=\"T_f8f69_row4_col6\" class=\"data row4 col6\" >0.5695</td>\n",
              "      <td id=\"T_f8f69_row4_col7\" class=\"data row4 col7\" >0.5729</td>\n",
              "      <td id=\"T_f8f69_row4_col8\" class=\"data row4 col8\" >0.2770</td>\n",
              "    </tr>\n",
              "    <tr>\n",
              "      <th id=\"T_f8f69_level0_row5\" class=\"row_heading level0 row5\" >ada</th>\n",
              "      <td id=\"T_f8f69_row5_col0\" class=\"data row5 col0\" >Ada Boost Classifier</td>\n",
              "      <td id=\"T_f8f69_row5_col1\" class=\"data row5 col1\" >0.8893</td>\n",
              "      <td id=\"T_f8f69_row5_col2\" class=\"data row5 col2\" >0.9157</td>\n",
              "      <td id=\"T_f8f69_row5_col3\" class=\"data row5 col3\" >0.5738</td>\n",
              "      <td id=\"T_f8f69_row5_col4\" class=\"data row5 col4\" >0.6752</td>\n",
              "      <td id=\"T_f8f69_row5_col5\" class=\"data row5 col5\" >0.6193</td>\n",
              "      <td id=\"T_f8f69_row5_col6\" class=\"data row5 col6\" >0.5552</td>\n",
              "      <td id=\"T_f8f69_row5_col7\" class=\"data row5 col7\" >0.5583</td>\n",
              "      <td id=\"T_f8f69_row5_col8\" class=\"data row5 col8\" >0.9380</td>\n",
              "    </tr>\n",
              "    <tr>\n",
              "      <th id=\"T_f8f69_level0_row6\" class=\"row_heading level0 row6\" >lda</th>\n",
              "      <td id=\"T_f8f69_row6_col0\" class=\"data row6 col0\" >Linear Discriminant Analysis</td>\n",
              "      <td id=\"T_f8f69_row6_col1\" class=\"data row6 col1\" >0.8780</td>\n",
              "      <td id=\"T_f8f69_row6_col2\" class=\"data row6 col2\" >0.8921</td>\n",
              "      <td id=\"T_f8f69_row6_col3\" class=\"data row6 col3\" >0.3199</td>\n",
              "      <td id=\"T_f8f69_row6_col4\" class=\"data row6 col4\" >0.7671</td>\n",
              "      <td id=\"T_f8f69_row6_col5\" class=\"data row6 col5\" >0.4501</td>\n",
              "      <td id=\"T_f8f69_row6_col6\" class=\"data row6 col6\" >0.3946</td>\n",
              "      <td id=\"T_f8f69_row6_col7\" class=\"data row6 col7\" >0.4431</td>\n",
              "      <td id=\"T_f8f69_row6_col8\" class=\"data row6 col8\" >0.1090</td>\n",
              "    </tr>\n",
              "    <tr>\n",
              "      <th id=\"T_f8f69_level0_row7\" class=\"row_heading level0 row7\" >lr</th>\n",
              "      <td id=\"T_f8f69_row7_col0\" class=\"data row7 col0\" >Logistic Regression</td>\n",
              "      <td id=\"T_f8f69_row7_col1\" class=\"data row7 col1\" >0.8725</td>\n",
              "      <td id=\"T_f8f69_row7_col2\" class=\"data row7 col2\" >0.8651</td>\n",
              "      <td id=\"T_f8f69_row7_col3\" class=\"data row7 col3\" >0.2532</td>\n",
              "      <td id=\"T_f8f69_row7_col4\" class=\"data row7 col4\" >0.7935</td>\n",
              "      <td id=\"T_f8f69_row7_col5\" class=\"data row7 col5\" >0.3825</td>\n",
              "      <td id=\"T_f8f69_row7_col6\" class=\"data row7 col6\" >0.3324</td>\n",
              "      <td id=\"T_f8f69_row7_col7\" class=\"data row7 col7\" >0.4009</td>\n",
              "      <td id=\"T_f8f69_row7_col8\" class=\"data row7 col8\" >1.2640</td>\n",
              "    </tr>\n",
              "    <tr>\n",
              "      <th id=\"T_f8f69_level0_row8\" class=\"row_heading level0 row8\" >ridge</th>\n",
              "      <td id=\"T_f8f69_row8_col0\" class=\"data row8 col0\" >Ridge Classifier</td>\n",
              "      <td id=\"T_f8f69_row8_col1\" class=\"data row8 col1\" >0.8697</td>\n",
              "      <td id=\"T_f8f69_row8_col2\" class=\"data row8 col2\" >0.0000</td>\n",
              "      <td id=\"T_f8f69_row8_col3\" class=\"data row8 col3\" >0.2262</td>\n",
              "      <td id=\"T_f8f69_row8_col4\" class=\"data row8 col4\" >0.7973</td>\n",
              "      <td id=\"T_f8f69_row8_col5\" class=\"data row8 col5\" >0.3513</td>\n",
              "      <td id=\"T_f8f69_row8_col6\" class=\"data row8 col6\" >0.3036</td>\n",
              "      <td id=\"T_f8f69_row8_col7\" class=\"data row8 col7\" >0.3793</td>\n",
              "      <td id=\"T_f8f69_row8_col8\" class=\"data row8 col8\" >0.1860</td>\n",
              "    </tr>\n",
              "    <tr>\n",
              "      <th id=\"T_f8f69_level0_row9\" class=\"row_heading level0 row9\" >dt</th>\n",
              "      <td id=\"T_f8f69_row9_col0\" class=\"data row9 col0\" >Decision Tree Classifier</td>\n",
              "      <td id=\"T_f8f69_row9_col1\" class=\"data row9 col1\" >0.8613</td>\n",
              "      <td id=\"T_f8f69_row9_col2\" class=\"data row9 col2\" >0.7473</td>\n",
              "      <td id=\"T_f8f69_row9_col3\" class=\"data row9 col3\" >0.5812</td>\n",
              "      <td id=\"T_f8f69_row9_col4\" class=\"data row9 col4\" >0.5560</td>\n",
              "      <td id=\"T_f8f69_row9_col5\" class=\"data row9 col5\" >0.5678</td>\n",
              "      <td id=\"T_f8f69_row9_col6\" class=\"data row9 col6\" >0.4853</td>\n",
              "      <td id=\"T_f8f69_row9_col7\" class=\"data row9 col7\" >0.4858</td>\n",
              "      <td id=\"T_f8f69_row9_col8\" class=\"data row9 col8\" >0.4250</td>\n",
              "    </tr>\n",
              "    <tr>\n",
              "      <th id=\"T_f8f69_level0_row10\" class=\"row_heading level0 row10\" >dummy</th>\n",
              "      <td id=\"T_f8f69_row10_col0\" class=\"data row10 col0\" >Dummy Classifier</td>\n",
              "      <td id=\"T_f8f69_row10_col1\" class=\"data row10 col1\" >0.8431</td>\n",
              "      <td id=\"T_f8f69_row10_col2\" class=\"data row10 col2\" >0.5000</td>\n",
              "      <td id=\"T_f8f69_row10_col3\" class=\"data row10 col3\" >0.0000</td>\n",
              "      <td id=\"T_f8f69_row10_col4\" class=\"data row10 col4\" >0.0000</td>\n",
              "      <td id=\"T_f8f69_row10_col5\" class=\"data row10 col5\" >0.0000</td>\n",
              "      <td id=\"T_f8f69_row10_col6\" class=\"data row10 col6\" >0.0000</td>\n",
              "      <td id=\"T_f8f69_row10_col7\" class=\"data row10 col7\" >0.0000</td>\n",
              "      <td id=\"T_f8f69_row10_col8\" class=\"data row10 col8\" >0.0840</td>\n",
              "    </tr>\n",
              "    <tr>\n",
              "      <th id=\"T_f8f69_level0_row11\" class=\"row_heading level0 row11\" >knn</th>\n",
              "      <td id=\"T_f8f69_row11_col0\" class=\"data row11 col0\" >K Neighbors Classifier</td>\n",
              "      <td id=\"T_f8f69_row11_col1\" class=\"data row11 col1\" >0.8358</td>\n",
              "      <td id=\"T_f8f69_row11_col2\" class=\"data row11 col2\" >0.6724</td>\n",
              "      <td id=\"T_f8f69_row11_col3\" class=\"data row11 col3\" >0.1438</td>\n",
              "      <td id=\"T_f8f69_row11_col4\" class=\"data row11 col4\" >0.4345</td>\n",
              "      <td id=\"T_f8f69_row11_col5\" class=\"data row11 col5\" >0.2151</td>\n",
              "      <td id=\"T_f8f69_row11_col6\" class=\"data row11 col6\" >0.1486</td>\n",
              "      <td id=\"T_f8f69_row11_col7\" class=\"data row11 col7\" >0.1777</td>\n",
              "      <td id=\"T_f8f69_row11_col8\" class=\"data row11 col8\" >0.3640</td>\n",
              "    </tr>\n",
              "    <tr>\n",
              "      <th id=\"T_f8f69_level0_row12\" class=\"row_heading level0 row12\" >qda</th>\n",
              "      <td id=\"T_f8f69_row12_col0\" class=\"data row12 col0\" >Quadratic Discriminant Analysis</td>\n",
              "      <td id=\"T_f8f69_row12_col1\" class=\"data row12 col1\" >0.8303</td>\n",
              "      <td id=\"T_f8f69_row12_col2\" class=\"data row12 col2\" >0.8049</td>\n",
              "      <td id=\"T_f8f69_row12_col3\" class=\"data row12 col3\" >0.5491</td>\n",
              "      <td id=\"T_f8f69_row12_col4\" class=\"data row12 col4\" >0.4742</td>\n",
              "      <td id=\"T_f8f69_row12_col5\" class=\"data row12 col5\" >0.5045</td>\n",
              "      <td id=\"T_f8f69_row12_col6\" class=\"data row12 col6\" >0.4040</td>\n",
              "      <td id=\"T_f8f69_row12_col7\" class=\"data row12 col7\" >0.4080</td>\n",
              "      <td id=\"T_f8f69_row12_col8\" class=\"data row12 col8\" >0.3030</td>\n",
              "    </tr>\n",
              "    <tr>\n",
              "      <th id=\"T_f8f69_level0_row13\" class=\"row_heading level0 row13\" >svm</th>\n",
              "      <td id=\"T_f8f69_row13_col0\" class=\"data row13 col0\" >SVM - Linear Kernel</td>\n",
              "      <td id=\"T_f8f69_row13_col1\" class=\"data row13 col1\" >0.7874</td>\n",
              "      <td id=\"T_f8f69_row13_col2\" class=\"data row13 col2\" >0.0000</td>\n",
              "      <td id=\"T_f8f69_row13_col3\" class=\"data row13 col3\" >0.5466</td>\n",
              "      <td id=\"T_f8f69_row13_col4\" class=\"data row13 col4\" >0.5840</td>\n",
              "      <td id=\"T_f8f69_row13_col5\" class=\"data row13 col5\" >0.4629</td>\n",
              "      <td id=\"T_f8f69_row13_col6\" class=\"data row13 col6\" >0.3623</td>\n",
              "      <td id=\"T_f8f69_row13_col7\" class=\"data row13 col7\" >0.4174</td>\n",
              "      <td id=\"T_f8f69_row13_col8\" class=\"data row13 col8\" >0.3440</td>\n",
              "    </tr>\n",
              "    <tr>\n",
              "      <th id=\"T_f8f69_level0_row14\" class=\"row_heading level0 row14\" >nb</th>\n",
              "      <td id=\"T_f8f69_row14_col0\" class=\"data row14 col0\" >Naive Bayes</td>\n",
              "      <td id=\"T_f8f69_row14_col1\" class=\"data row14 col1\" >0.7737</td>\n",
              "      <td id=\"T_f8f69_row14_col2\" class=\"data row14 col2\" >0.8186</td>\n",
              "      <td id=\"T_f8f69_row14_col3\" class=\"data row14 col3\" >0.6494</td>\n",
              "      <td id=\"T_f8f69_row14_col4\" class=\"data row14 col4\" >0.3738</td>\n",
              "      <td id=\"T_f8f69_row14_col5\" class=\"data row14 col5\" >0.4740</td>\n",
              "      <td id=\"T_f8f69_row14_col6\" class=\"data row14 col6\" >0.3431</td>\n",
              "      <td id=\"T_f8f69_row14_col7\" class=\"data row14 col7\" >0.3647</td>\n",
              "      <td id=\"T_f8f69_row14_col8\" class=\"data row14 col8\" >0.1820</td>\n",
              "    </tr>\n",
              "  </tbody>\n",
              "</table>\n"
            ]
          },
          "metadata": {}
        },
        {
          "output_type": "display_data",
          "data": {
            "text/plain": [
              "Processing:   0%|          | 0/65 [00:00<?, ?it/s]"
            ],
            "application/vnd.jupyter.widget-view+json": {
              "version_major": 2,
              "version_minor": 0,
              "model_id": "bca2c3b534c24f72aaf79a110532a97f"
            }
          },
          "metadata": {
            "application/vnd.jupyter.widget-view+json": {
              "colab": {
                "custom_widget_manager": {
                  "url": "https://ssl.gstatic.com/colaboratory-static/widgets/colab-cdn-widget-manager/b3e629b1971e1542/manager.min.js"
                }
              }
            }
          }
        },
        {
          "output_type": "display_data",
          "data": {
            "text/plain": [
              "<IPython.core.display.HTML object>"
            ],
            "text/html": []
          },
          "metadata": {}
        }
      ]
    },
    {
      "cell_type": "code",
      "source": [
        "#RANDOM FOREST CLASSIFER\n",
        "from sklearn.ensemble import RandomForestClassifier\n",
        "from sklearn.metrics import accuracy_score, classification_report\n",
        "\n",
        "rf = RandomForestClassifier(n_estimators=1000, random_state=1)\n",
        "rf.fit(X_train, y_train)\n",
        "\n",
        "# Make predictions on the test set and evaluate model performance\n",
        "y_pred = rf.predict(X_test)\n",
        "accuracy = accuracy_score(y_test, y_pred)\n",
        "print(f'Accuracy: {accuracy}')\n",
        "print(classification_report(y_test, y_pred))"
      ],
      "metadata": {
        "colab": {
          "base_uri": "https://localhost:8080/"
        },
        "id": "bv4FYS8KbbFc",
        "outputId": "c2fa6885-e4f6-4487-9178-05a64a4542cf"
      },
      "execution_count": null,
      "outputs": [
        {
          "output_type": "stream",
          "name": "stdout",
          "text": [
            "Accuracy: 0.9258536585365854\n",
            "              precision    recall  f1-score   support\n",
            "\n",
            "           0       0.95      0.90      0.92      2050\n",
            "           1       0.91      0.95      0.93      2050\n",
            "\n",
            "    accuracy                           0.93      4100\n",
            "   macro avg       0.93      0.93      0.93      4100\n",
            "weighted avg       0.93      0.93      0.93      4100\n",
            "\n"
          ]
        }
      ]
    },
    {
      "cell_type": "code",
      "source": [
        "feature_importances = rf.feature_importances_\n",
        "\n",
        "# Create a bar plot of feature importances\n",
        "plt.figure(figsize=(10, 6))\n",
        "sns.barplot(x=feature_importances, y=X_train.columns)\n",
        "plt.xlabel('Feature Importance')\n",
        "plt.ylabel('Features')\n",
        "plt.title('Random Forest Feature Importance')\n",
        "plt.show()"
      ],
      "metadata": {
        "colab": {
          "base_uri": "https://localhost:8080/",
          "height": 573
        },
        "id": "Ma5ZynMjyvEF",
        "outputId": "103fb54e-7918-4081-d4bc-06acfcfef67b"
      },
      "execution_count": null,
      "outputs": [
        {
          "output_type": "display_data",
          "data": {
            "text/plain": [
              "<Figure size 1000x600 with 1 Axes>"
            ],
            "image/png": "[encoded data removed]"
          },
          "metadata": {}
        }
      ]
    },
    {
      "cell_type": "code",
      "source": [
        "from sklearn.metrics import confusion_matrix\n",
        "cm = confusion_matrix(y_test, y_pred)\n",
        "\n",
        "# Plot the confusion matrix as a heatmap\n",
        "sns.heatmap(cm, annot=True, fmt='d', cmap='Blues')\n",
        "plt.title('Confusion Matrix')\n",
        "plt.xlabel('Predicted Label')\n",
        "plt.ylabel('True Label')\n",
        "plt.show()"
      ],
      "metadata": {
        "colab": {
          "base_uri": "https://localhost:8080/",
          "height": 480
        },
        "id": "PzW2VBpwbbIy",
        "outputId": "1fbf816c-c9f8-4c35-f59d-d05617f32154"
      },
      "execution_count": null,
      "outputs": [
        {
          "output_type": "display_data",
          "data": {
            "text/plain": [
              "<Figure size 640x480 with 2 Axes>"
            ],
            "image/png": "[encoded data removed]"
          },
          "metadata": {}
        }
      ]
    },
    {
      "cell_type": "code",
      "source": [
        "from sklearn.ensemble import ExtraTreesClassifier\n",
        "from sklearn.datasets import make_classification"
      ],
      "metadata": {
        "id": "pe12oUXUbbMQ"
      },
      "execution_count": null,
      "outputs": []
    },
    {
      "cell_type": "code",
      "source": [
        "# EXTRA TREES CLASSIFER\n",
        "et = ExtraTreesClassifier(n_estimators=100, random_state=42)\n",
        "et.fit(X_train, y_train)\n",
        "y_pred = et.predict(X_test)\n",
        "accuracy_et = accuracy_score(y_test, y_pred)\n",
        "print('Extra Trees Accuracy:', accuracy_et)\n",
        "\n",
        "print(f'Accuracy: {accuracy_et}')\n",
        "print(classification_report(y_test, y_pred))"
      ],
      "metadata": {
        "colab": {
          "base_uri": "https://localhost:8080/"
        },
        "id": "ecuFM-6ihI5X",
        "outputId": "91f9801a-465b-42a5-b028-a73fae4162df"
      },
      "execution_count": null,
      "outputs": [
        {
          "output_type": "stream",
          "name": "stdout",
          "text": [
            "Extra Trees Accuracy: 0.9385365853658536\n",
            "Accuracy: 0.9385365853658536\n",
            "              precision    recall  f1-score   support\n",
            "\n",
            "           0       0.96      0.91      0.94      2050\n",
            "           1       0.92      0.97      0.94      2050\n",
            "\n",
            "    accuracy                           0.94      4100\n",
            "   macro avg       0.94      0.94      0.94      4100\n",
            "weighted avg       0.94      0.94      0.94      4100\n",
            "\n"
          ]
        }
      ]
    },
    {
      "cell_type": "code",
      "source": [
        "#  Plot the feature importance\n",
        "feature_importances = et.feature_importances_\n",
        "plt.figure(figsize=(10, 6))\n",
        "sns.barplot(x=feature_importances, y=X_train.columns)\n",
        "plt.xlabel('Feature Importance')\n",
        "plt.ylabel('Features')\n",
        "plt.title('Extra Trees Feature Importance')\n",
        "plt.show()\n",
        "\n",
        "# Print the classification report\n",
        "print('Classification Report:')\n",
        "print(classification_report(y_test, y_pred))"
      ],
      "metadata": {
        "colab": {
          "base_uri": "https://localhost:8080/",
          "height": 747
        },
        "id": "oeAi1VlVy7yc",
        "outputId": "e9bc1045-679c-4b77-d345-0253c2c2a340"
      },
      "execution_count": null,
      "outputs": [
        {
          "output_type": "display_data",
          "data": {
            "text/plain": [
              "<Figure size 1000x600 with 1 Axes>"
            ],
            "image/png": "[encoded data removed]"
          },
          "metadata": {}
        },
        {
          "output_type": "stream",
          "name": "stdout",
          "text": [
            "Classification Report:\n",
            "              precision    recall  f1-score   support\n",
            "\n",
            "           0       0.96      0.91      0.94      2050\n",
            "           1       0.92      0.97      0.94      2050\n",
            "\n",
            "    accuracy                           0.94      4100\n",
            "   macro avg       0.94      0.94      0.94      4100\n",
            "weighted avg       0.94      0.94      0.94      4100\n",
            "\n"
          ]
        }
      ]
    },
    {
      "cell_type": "code",
      "source": [
        "from sklearn.metrics import confusion_matrix\n",
        "cm = confusion_matrix(y_test, y_pred)\n",
        "\n",
        "# Plot the confusion matrix as a heatmap\n",
        "sns.heatmap(cm, annot=True, fmt='d', cmap='Blues')\n",
        "plt.title('Confusion Matrix')\n",
        "plt.xlabel('Predicted Label')\n",
        "plt.ylabel('True Label')\n",
        "plt.show()"
      ],
      "metadata": {
        "colab": {
          "base_uri": "https://localhost:8080/",
          "height": 480
        },
        "id": "xz8nYvBJh-Ko",
        "outputId": "0f3092ec-2224-4d45-ee77-9bed0887003d"
      },
      "execution_count": null,
      "outputs": [
        {
          "output_type": "display_data",
          "data": {
            "text/plain": [
              "<Figure size 640x480 with 2 Axes>"
            ],
            "image/png": "[encoded data removed]"
          },
          "metadata": {}
        }
      ]
    },
    {
      "cell_type": "code",
      "source": [
        "#TESTING THE DATA"
      ],
      "metadata": {
        "id": "jOyT8EolzVno"
      },
      "execution_count": null,
      "outputs": []
    },
    {
      "cell_type": "code",
      "source": [
        "df.columns"
      ],
      "metadata": {
        "colab": {
          "base_uri": "https://localhost:8080/"
        },
        "id": "sGaHFX73iCJj",
        "outputId": "63098085-6492-4083-bfa3-6921a6eedce5"
      },
      "execution_count": null,
      "outputs": [
        {
          "output_type": "execute_result",
          "data": {
            "text/plain": [
              "Index(['Administrative_Duration', 'Informational_Duration',\n",
              "       'ProductRelated_Duration', 'BounceRates', 'ExitRates', 'PageValues',\n",
              "       'SpecialDay', 'Month', 'OperatingSystems', 'Browser', 'Region',\n",
              "       'TrafficType', 'VisitorType', 'Weekend', 'Revenue'],\n",
              "      dtype='object')"
            ]
          },
          "metadata": {},
          "execution_count": 79
        }
      ]
    },
    {
      "cell_type": "code",
      "source": [
        "user_input = {'Administrative_Duration': 50,\n",
        "              'Informational_Duration': 100,\n",
        "              'ProductRelated_Duration': 200,\n",
        "              'BounceRates': 0.05,\n",
        "              'ExitRates': 0.1,\n",
        "              'PageValues': 20,\n",
        "              'SpecialDay': 0,\n",
        "              'Month': 7,\n",
        "              'OperatingSystems': 0,\n",
        "              'Browser': 0,\n",
        "              'Region': 0,\n",
        "              'TrafficType': 1,\n",
        "              'VisitorType': 'New_Visitor',\n",
        "              'Weekend': 1}\n",
        "\n",
        "# user_input = {'Administrative_Duration': 8,\n",
        "#               'Informational_Duration': 14.333,\n",
        "#               'ProductRelated_Duration': 603.667,\n",
        "#               'BounceRates': 0,\n",
        "#               'ExitRates': 0.0125,\n",
        "#               'PageValues': 44.67925,\n",
        "#               'SpecialDay': 0,\n",
        "#               'Month': 3,\n",
        "#               'OperatingSystems': 2,\n",
        "#               'Browser': 2,\n",
        "#               'Region': 1,\n",
        "#               'TrafficType': 7,\n",
        "#               'VisitorType': 'Returning_Visitor',\n",
        "#               'Weekend': 0}\n"
      ],
      "metadata": {
        "id": "7nh1WEb2iRD2"
      },
      "execution_count": null,
      "outputs": []
    },
    {
      "cell_type": "code",
      "source": [
        "user_df = pd.DataFrame.from_dict(user_input, orient='index').T"
      ],
      "metadata": {
        "id": "1E1iq0Gmiri7"
      },
      "execution_count": null,
      "outputs": []
    },
    {
      "cell_type": "code",
      "source": [
        "visitor_type_mapping = {\n",
        "    'New_Visitor': 1,\n",
        "    'Other': 0,\n",
        "    'Returning_Visitor': 0\n",
        "}\n",
        "# visitor_type_mapping = {\n",
        "#     'New_Visitor': 0,\n",
        "#     'Other': 0,\n",
        "#     'Returning_Visitor': 1\n",
        "# }\n",
        "\n",
        "\n",
        "user_df['VisitorType_New_Visitor'] = user_df['VisitorType'].map(visitor_type_mapping)\n",
        "user_df['VisitorType_Other'] = user_df['VisitorType'].map(visitor_type_mapping)\n",
        "user_df['VisitorType_Returning_Visitor'] = user_df['VisitorType'].map(visitor_type_mapping)\n",
        "\n",
        "# Drop the original VisitorType column\n",
        "user_df.drop('VisitorType', axis=1, inplace=True)\n",
        "\n",
        "# Make a prediction for the user input\n",
        "prediction = et.predict(user_df)\n",
        "print(prediction)\n",
        "\n",
        "#model ccuracy is approx 94%"
      ],
      "metadata": {
        "colab": {
          "base_uri": "https://localhost:8080/"
        },
        "id": "vHGDBHSAjSNc",
        "outputId": "c0db917a-b155-4db2-c7c1-4550f1e44c0f"
      },
      "execution_count": null,
      "outputs": [
        {
          "output_type": "stream",
          "name": "stdout",
          "text": [
            "[0]\n"
          ]
        }
      ]
    }
  ]
}